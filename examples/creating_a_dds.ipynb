{
 "cells": [
  {
   "cell_type": "markdown",
   "metadata": {},
   "source": [
    "# Creating a Dynamical Decoupling Sequence\n",
    "\n",
    "This notebook illustrates how to use Q-CTRL Open Controls to create a [Dynamical Decoupling Sequence (DDS)](https://en.wikipedia.org/wiki/Dynamical_decoupling). \n",
    "\n",
    "Dynamical decoupling is the use of fast pulses, often treated as instant ideal unitary operations, on a qubit to decouple it from its environment and improve its coherence time. The train of pulses is called a sequence, hence DDS. DDS can be used to increase the coherence time of a qubit or they can be used as part of a characterization process to identify coherence time and/or noise spectra.\n",
    "\n",
    "Q-CTRL Open Controls can be used to create a DDS from a library of well-known dynamical decoupling schemes. Once created, it can be printed, plotted, exported in CSV or JSON format for use on a quantum computer or any of [Q-CTRL's products](https://q-ctrl.com/products/)."
   ]
  },
  {
   "cell_type": "markdown",
   "metadata": {},
   "source": [
    "## Imports"
   ]
  },
  {
   "cell_type": "code",
   "execution_count": 1,
   "metadata": {},
   "outputs": [],
   "source": [
    "import numpy as np\n",
    "import matplotlib.pyplot as plt\n",
    "from qctrlopencontrols import new_predefined_dds, DynamicDecouplingSequence"
   ]
  },
  {
   "cell_type": "markdown",
   "metadata": {},
   "source": [
    "## Predefined Dynamical Decoupling Schemes\n",
    "\n",
    "Q-CTRL Open Controls can create DDSs according to the following protocols:\n",
    "\n",
    "1. `Ramsey`\n",
    "2. `spin echo`\n",
    "3. `Carr-Purcell`\n",
    "4. `Carr-Purcell-Meiboom-Gill`\n",
    "5. `Uhrig`\n",
    "6. `periodic`\n",
    "7. `Walsh single-axis`\n",
    "8. `quadratic`\n",
    "9. `X concatenated`\n",
    "10. `XY concatenated`\n",
    "\n",
    "See the [technical documentation](https://docs.q-ctrl.com/control-formats#dynamical-decoupling-sequences) for details."
   ]
  },
  {
   "cell_type": "markdown",
   "metadata": {},
   "source": [
    "## Creating and Printing a Dynamical Decoupling Sequence\n",
    "\n",
    "A DDS is defined as a set of instant unitary operations, each defined with by a `rabi_rotation`, a `azimuthal_angle`, a `detuning_angle`, and applied at a particular time (`offset`). The mathematical definition of a sequence is explained in the [technical documentation](http://docs.q-ctrl.com/control-library#dynamical-decoupling-sequences).\n",
    "\n",
    "Q-CTRL Open controls can generate a DDS from a library of dynamical decoupling schemes, mathematically defined in the [technical documentation](https://docs.q-ctrl.com/control-formats#dynamical-decoupling-sequences). Below we give a few examples of generating DDSs. The schemes are grouped into cells if they have common keywords."
   ]
  },
  {
   "cell_type": "code",
   "execution_count": 2,
   "metadata": {},
   "outputs": [
    {
     "name": "stdout",
     "output_type": "stream",
     "text": [
      "SE DDS:\n",
      "Duration = 1e-05\n",
      "Offsets = [0.0,0.5,1.0] x 1e-05\n",
      "Rabi Rotations = [0.0,1.0,0.0] x pi\n",
      "Azimuthal Angles = [0.0,0.0,0.0] x pi\n",
      "Detuning Rotations = [0.0,0.0,0.0] x pi\n"
     ]
    }
   ],
   "source": [
    "## Spin echo sequence\n",
    "se_dds = new_predefined_dds(scheme='spin echo', duration=10e-6, name='SE DDS')\n",
    "print(se_dds)"
   ]
  },
  {
   "cell_type": "code",
   "execution_count": 3,
   "metadata": {},
   "outputs": [
    {
     "name": "stdout",
     "output_type": "stream",
     "text": [
      "CP DDS:\n",
      "Duration = 1e-05\n",
      "Offsets = [0.0,0.125,0.375,0.625,0.875,1.0] x 1e-05\n",
      "Rabi Rotations = [0.0,1.0,1.0,1.0,1.0,0.0] x pi\n",
      "Azimuthal Angles = [0.0,0.0,0.0,0.0,0.0,0.0] x pi\n",
      "Detuning Rotations = [0.0,0.0,0.0,0.0,0.0,0.0] x pi\n"
     ]
    }
   ],
   "source": [
    "## Carr-Purcell sequence\n",
    "## 'Carr-Purcell-Meiboom-Gill', 'Uhrig single-axis' or 'Periodic single-axis' schemes use same keywords\n",
    "cp_dds = new_predefined_dds(\n",
    "    scheme='Carr-Purcell', \n",
    "    duration=10e-6, \n",
    "    number_of_offsets = 4.,\n",
    "    name='CP DDS')\n",
    "print(cp_dds)"
   ]
  },
  {
   "cell_type": "code",
   "execution_count": 4,
   "metadata": {},
   "outputs": [
    {
     "name": "stdout",
     "output_type": "stream",
     "text": [
      "Walsh DDS:\n",
      "Duration = 1e-05\n",
      "Offsets = [0.0,0.125,0.25,0.375,0.5,0.625,0.75,0.875,1.0] x 1e-05\n",
      "Rabi Rotations = [0.0,1.0,1.0,1.0,1.0,1.0,1.0,1.0,0.0] x pi\n",
      "Azimuthal Angles = [0.0,0.0,0.0,0.0,0.0,0.0,0.0,0.0,0.0] x pi\n",
      "Detuning Rotations = [0.0,0.0,0.0,0.0,0.0,0.0,0.0,0.0,0.0] x pi\n"
     ]
    }
   ],
   "source": [
    "## Walsh single-axis\n",
    "walsh_dds = new_predefined_dds(\n",
    "    scheme='Walsh single-axis', \n",
    "    duration=10e-6, \n",
    "    paley_order = 4.,\n",
    "    name='Walsh DDS')\n",
    "print(walsh_dds)"
   ]
  },
  {
   "cell_type": "code",
   "execution_count": 5,
   "metadata": {},
   "outputs": [
    {
     "name": "stdout",
     "output_type": "stream",
     "text": [
      "Quadratic DDS:\n",
      "Duration = 1e-05\n",
      "Offsets = [0.0,0.06249999999999998,0.18749999999999994,0.24999999999999994,0.37499999999999994,0.6249999999999999,0.7499999999999999,0.8124999999999999,0.9375,1.0] x 1e-05\n",
      "Rabi Rotations = [0.0,0.0,0.0,1.0,0.0,0.0,1.0,0.0,0.0,0.0] x pi\n",
      "Azimuthal Angles = [0.0,0.0,0.0,0.0,0.0,0.0,0.0,0.0,0.0,0.0] x pi\n",
      "Detuning Rotations = [0.0,1.0,1.0,0.0,1.0,1.0,0.0,1.0,1.0,0.0] x pi\n"
     ]
    }
   ],
   "source": [
    "## Quadratic sequence\n",
    "quadratic_dds = new_predefined_dds(\n",
    "    scheme='quadratic', \n",
    "    duration=10e-6, \n",
    "    number_inner_offsets = 2,\n",
    "    number_outer_offsets = 2,\n",
    "    name='Quadratic DDS')\n",
    "print(quadratic_dds)"
   ]
  },
  {
   "cell_type": "code",
   "execution_count": 6,
   "metadata": {},
   "outputs": [
    {
     "name": "stdout",
     "output_type": "stream",
     "text": [
      "XC DDS:\n",
      "Duration = 1e-05\n",
      "Offsets = [0.0,0.25,0.75,1.0] x 1e-05\n",
      "Rabi Rotations = [0.0,1.0,1.0,0.0] x pi\n",
      "Azimuthal Angles = [0.0,0.0,0.0,0.0] x pi\n",
      "Detuning Rotations = [0.0,0.0,0.0,0.0] x pi\n"
     ]
    }
   ],
   "source": [
    "## X concatenated sequence\n",
    "## 'XY concatenated' scheme uses the same keyword\n",
    "xc_dds = new_predefined_dds(\n",
    "    scheme='X concatenated', \n",
    "    duration=10e-6, \n",
    "    concatenation_order = 2,\n",
    "    name='XC DDS')\n",
    "print(xc_dds)"
   ]
  },
  {
   "cell_type": "code",
   "execution_count": 7,
   "metadata": {},
   "outputs": [
    {
     "name": "stdout",
     "output_type": "stream",
     "text": [
      "Ramsey DDS:\n",
      "Duration = 1e-06\n",
      "Offsets = [0.0,1.0] x 1e-06\n",
      "Rabi Rotations = [0.0,0.0] x pi\n",
      "Azimuthal Angles = [0.0,0.0] x pi\n",
      "Detuning Rotations = [0.0,0.0] x pi\n"
     ]
    }
   ],
   "source": [
    "## Ramsay DDS\n",
    "ramsey_dds = new_predefined_dds(scheme='Ramsey', duration=1e-6, name='Ramsey DDS')\n",
    "print(ramsey_dds)"
   ]
  },
  {
   "cell_type": "markdown",
   "metadata": {},
   "source": [
    "### Plotting a DDS\n",
    "\n",
    "Once created, Q-CTRL Open Controls provides the method `get_plot_formatted_arrays` to create a set of formatted arrays ready to be immediately plotted with Matplotlib. We use the `quadratic_dds` as a sample sequence to generate plots of the `rabi_rotations`, `azimuthal_angles` and `detuning_rotations`."
   ]
  },
  {
   "cell_type": "code",
   "execution_count": 8,
   "metadata": {},
   "outputs": [
    {
     "data": {
      "text/plain": [
       "Text(0, 0.5, 'Detuning Rotation (rad)')"
      ]
     },
     "execution_count": 8,
     "metadata": {},
     "output_type": "execute_result"
    },
    {
     "data": {
      "image/png": "[encoded data removed]",
      "text/plain": [
       "<Figure size 1440x360 with 3 Axes>"
      ]
     },
     "metadata": {
      "needs_background": "light"
     },
     "output_type": "display_data"
    }
   ],
   "source": [
    "formatted_plot_data = quadratic_dds.get_plot_formatted_arrays()\n",
    "rabi_rotations, azimuthal_angles, detuning_rotations, times = (formatted_plot_data['rabi_rotations'],\n",
    "                                                               formatted_plot_data['azimuthal_angles'],\n",
    "                                                               formatted_plot_data['detuning_rotations'],\n",
    "                                                               formatted_plot_data['times'])\n",
    "\n",
    "# prepare the axes\n",
    "figure, (rabi_plot_axis, azimuth_plot_axis, detuning_plot_axis) = plt.subplots(\n",
    "    1, 3, figsize=(20,5))\n",
    "\n",
    "rabi_plot_axis.plot(times, rabi_rotations)\n",
    "rabi_plot_axis.ticklabel_format(style='sci', axis='x', scilimits=(0, 2))\n",
    "rabi_plot_axis.set_xlim([0, max(times)])\n",
    "rabi_plot_axis.set_xlabel('Time (s)')\n",
    "rabi_plot_axis.set_ylabel('Rabi Rotations (rad)')\n",
    "\n",
    "azimuth_plot_axis.plot(times, azimuthal_angles)\n",
    "azimuth_plot_axis.ticklabel_format(style='sci', axis='x', scilimits=(0, 2))\n",
    "azimuth_plot_axis.set_xlim([0, max(times)])\n",
    "azimuth_plot_axis.set_xlabel('Time (s)')\n",
    "azimuth_plot_axis.set_ylabel('Azimuthal Angle (rad)')\n",
    "\n",
    "detuning_plot_axis.plot(times, detuning_rotations)\n",
    "detuning_plot_axis.ticklabel_format(style='sci', axis='x', scilimits=(0, 2))\n",
    "detuning_plot_axis.set_xlim([0, max(times)])\n",
    "detuning_plot_axis.set_xlabel('Time (s)')\n",
    "detuning_plot_axis.set_ylabel('Detuning Rotation (rad)')\n"
   ]
  },
  {
   "cell_type": "markdown",
   "metadata": {},
   "source": [
    "### Exporting the Dynamical Decoupling Sequence\n",
    "\n",
    "Q-CTRL Open Controls enables exporting DDS in CSV or JSON format. An exported sequence is [formatted](https://docs.q-ctrl.com/control-formats) to be compatible with [Q-CTRL BLACK OPAL](https://app.q-ctrl.com).\n",
    "\n",
    "An ideal DDS is defined as a sequence of instantaneously-applied pulses (typically rotations around one or more of the Cartesian control axes - x,y,z). However, in reality, the rate of rotation is limited by the `maximum_rabi_rate` and/or `maximum_detuning_rate` for a given pulse. Due to this limiting factor, the target rotation is implemented over a control segment with finite duration. Q-CTRL Open Controls converts a `DynamicDecouplingSequence` into a `DrivenControl` before exporting the resulting `DrivenControl`. This conversion requires the `maximum_rabi_rate` and `maximum_detuning_rate` to be specified and raises an error if the conversion is not successful (i.e. overlapping control segments due to low `maximum_rabi_rate` or `maximum_detuning_rate` etc.).\n",
    "\n",
    "Q-CTRL Open Controls can export a sequence in either `cartesian` or `cylindrical` coordinates. For details, consult the [technical documentation](https://docs.q-ctrl.com/output-data-formats#q-ctrl-hardware).\n",
    "\n",
    "In the example below, we chose the `quadratic_dds` (created above) for exporting to a CSV file."
   ]
  },
  {
   "cell_type": "code",
   "execution_count": 9,
   "metadata": {},
   "outputs": [],
   "source": [
    "file_type='CSV'\n",
    "filename='example_sequence.csv'\n",
    "\n",
    "\n",
    "quadratic_dds.export_to_file(\n",
    "    filename=filename, \n",
    "    file_type=file_type,\n",
    "    maximum_rabi_rate=2e6*np.pi,\n",
    "    maximum_detuning_rate=4e6*np.pi)"
   ]
  },
  {
   "cell_type": "code",
   "execution_count": 10,
   "metadata": {},
   "outputs": [
    {
     "name": "stdout",
     "output_type": "stream",
     "text": [
      "rabi_rate,azimuthal_angle,detuning,duration,maximum_rabi_rate\n",
      "\n",
      "0.0,0.0,0.0,4.999999999999999e-07,6283185.307179586\n",
      "\n",
      "0.0,0.0,3.141592653589793,2.4999999999999994e-07,6283185.307179586\n",
      "\n",
      "0.0,0.0,0.0,9.999999999999997e-07,6283185.307179586\n",
      "\n",
      "0.0,0.0,3.141592653589793,2.4999999999999994e-07,6283185.307179586\n",
      "\n",
      "0.0,0.0,0.0,2.5000000000000015e-07,6283185.307179586\n",
      "\n",
      "1.0,0.0,0.0,5.000000000000003e-07,6283185.307179586\n",
      "\n",
      "0.0,0.0,0.0,8.749999999999997e-07,6283185.307179586\n",
      "\n",
      "0.0,0.0,3.141592653589793,2.499999999999997e-07,6283185.307179586\n",
      "\n",
      "0.0,0.0,0.0,2.2500000000000005e-06,6283185.307179586\n",
      "\n",
      "0.0,0.0,3.141592653589793,2.499999999999993e-07,6283185.307179586\n",
      "\n",
      "0.0,0.0,0.0,8.750000000000001e-07,6283185.307179586\n",
      "\n",
      "1.0,0.0,0.0,4.999999999999994e-07,6283185.307179586\n",
      "\n",
      "0.0,0.0,0.0,2.50000000000001e-07,6283185.307179586\n",
      "\n",
      "0.0,0.0,3.141592653589793,2.499999999999993e-07,6283185.307179586\n",
      "\n",
      "0.0,0.0,0.0,1.0000000000000023e-06,6283185.307179586\n",
      "\n",
      "0.0,0.0,3.141592653589793,2.499999999999993e-07,6283185.307179586\n",
      "\n",
      "0.0,0.0,0.0,5.000000000000003e-07,6283185.307179586\n"
     ]
    }
   ],
   "source": [
    "## Reload the file and check its content to better understand the format\n",
    "with open(filename, 'rt') as handle:\n",
    "    file_content = handle.readlines()\n",
    "for line in file_content:\n",
    "    print(line)"
   ]
  },
  {
   "cell_type": "markdown",
   "metadata": {},
   "source": [
    "### Opening the Exported Sequence in Q-CTRL BLACK OPAL"
   ]
  },
  {
   "cell_type": "markdown",
   "metadata": {},
   "source": [
    "The exported CSV files are compatible for analysis by a suite of tools offered by [Q-CTRL BLACK OPAL](https://app.q-ctrl.com). For example, you can upload the exported file in the [1-QUBIT Workspace](https://app.q-ctrl.com/oneQubit) for further analysis. The process to upload a custom control is described in [Uploading and Evaluating Custom Controls](https://help.q-ctrl.com/black-opal/guides/uploading-and-evaluating-custom-controls). For a full capability of BLACK OPAL, consult [Q-CTRL Help](https://help.q-ctrl.com/black-opal)"
   ]
  },
  {
   "cell_type": "markdown",
   "metadata": {},
   "source": [
    "## Custom Definition of Dynamic Decoupling Sequence\n",
    "\n",
    "An arbitrary `DynamicDecouplingSequence` can be created by providing a `duration` along with arrays for the `rabi_rotations`, `azimuthal_angles`, `detuning_rotations` and offsets."
   ]
  },
  {
   "cell_type": "code",
   "execution_count": 11,
   "metadata": {},
   "outputs": [
    {
     "data": {
      "text/plain": [
       "Text(0, 0.5, 'Detuning Rotation (rad)')"
      ]
     },
     "execution_count": 11,
     "metadata": {},
     "output_type": "execute_result"
    },
    {
     "data": {
      "image/png": "[encoded data removed]",
      "text/plain": [
       "<Figure size 1440x360 with 3 Axes>"
      ]
     },
     "metadata": {
      "needs_background": "light"
     },
     "output_type": "display_data"
    }
   ],
   "source": [
    "_duration = 1.50\n",
    "_rabi_rotations = [0., np.pi, np.pi, 0., np.pi, np.pi, 0.]\n",
    "_azimuthal_angles = [0., np.pi/2, 0., 0., 0., np.pi/2, 0.]\n",
    "_detuning_rotations = [0., 0., 0., np.pi, 0., 0., 0.]\n",
    "_offsets = [0., 0.25, 0.50, 0.75, 1.00, 1.25, 1.50]\n",
    "_name = 'Custom DDS'\n",
    "\n",
    "custom_dds = DynamicDecouplingSequence(duration=_duration,\n",
    "                                        rabi_rotations=_rabi_rotations,\n",
    "                                        azimuthal_angles=_azimuthal_angles,\n",
    "                                        detuning_rotations=_detuning_rotations,\n",
    "                                        offsets=_offsets,\n",
    "                                        name=_name)\n",
    "\n",
    "## let us plot and verify\n",
    "formatted_plot_data = custom_dds.get_plot_formatted_arrays()\n",
    "rabi_rotations, azimuthal_angles, detuning_rotations, times = (formatted_plot_data['rabi_rotations'],\n",
    "                                                               formatted_plot_data['azimuthal_angles'],\n",
    "                                                               formatted_plot_data['detuning_rotations'],\n",
    "                                                               formatted_plot_data['times'])\n",
    "\n",
    "figure, (rabi_plot_axis, azimuth_plot_axis, detuning_plot_axis) = plt.subplots(\n",
    "    1, 3, figsize=(20,5))\n",
    "\n",
    "rabi_plot_axis.plot(times, rabi_rotations)\n",
    "rabi_plot_axis.ticklabel_format(style='sci', axis='x', scilimits=(0, 2))\n",
    "rabi_plot_axis.set_xlim([0, max(times)])\n",
    "rabi_plot_axis.set_xlabel('Time (sec)')\n",
    "rabi_plot_axis.set_ylabel('Rabi Rotations (rad)')\n",
    "\n",
    "azimuth_plot_axis.plot(times, azimuthal_angles)\n",
    "azimuth_plot_axis.ticklabel_format(style='sci', axis='x', scilimits=(0, 2))\n",
    "azimuth_plot_axis.set_xlim([0, max(times)])\n",
    "azimuth_plot_axis.set_xlabel('Time (sec)')\n",
    "azimuth_plot_axis.set_ylabel('Azimuthal Angle (rad)')\n",
    "\n",
    "detuning_plot_axis.plot(times, detuning_rotations)\n",
    "detuning_plot_axis.ticklabel_format(style='sci', axis='x', scilimits=(0, 2))\n",
    "detuning_plot_axis.set_xlim([0, max(times)])\n",
    "detuning_plot_axis.set_xlabel('Time (sec)')\n",
    "detuning_plot_axis.set_ylabel('Detuning Rotation (rad)')\n"
   ]
  }
 ],
 "metadata": {
  "kernelspec": {
   "display_name": "Python 3",
   "language": "python",
   "name": "python3"
  },
  "language_info": {
   "codemirror_mode": {
    "name": "ipython",
    "version": 3
   },
   "file_extension": ".py",
   "mimetype": "text/x-python",
   "name": "python",
   "nbconvert_exporter": "python",
   "pygments_lexer": "ipython3",
   "version": "3.6.7"
  }
 },
 "nbformat": 4,
 "nbformat_minor": 2
}
