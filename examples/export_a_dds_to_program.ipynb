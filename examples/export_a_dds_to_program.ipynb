{
 "cells": [
  {
   "cell_type": "markdown",
   "metadata": {},
   "source": [
    "# Export a Dynamical Decoupling Sequence to Program\n",
    "\n",
    "Q-CTRL Open Controls provides easy-to-use methods to construct Dynamical Decoupling Sequences (DDS) according to well-known dynamical decoupling schemes. This is described in the [creating a DDS notebook](creating_a_dds.ipynb). Here we show how a DDS from Q-CTRL Open Controls can be exported to a Program defined in Pyquil. We also show how a DDS can decrease the number of errors, when executing a quantum program on a noisy device (simulated by Pyquil).\n",
    "\n",
    "Note: To create a quantum program, you need to install `pyquil` package. Follow the [instruction](http://docs.rigetti.com/en/stable/start.html) to install `pyquil`. Moreover, in order to simulate the quantum program, you will require the [FOrestSDK](https://www.rigetti.com/forest). Follow the [instruction] (http://docs.rigetti.com/en/stable/start.html) to obtain and install ForestSDK on your computer."
   ]
  },
  {
   "cell_type": "markdown",
   "metadata": {},
   "source": [
    "## Imports"
   ]
  },
  {
   "cell_type": "code",
   "execution_count": 1,
   "metadata": {},
   "outputs": [],
   "source": [
    "#General\n",
    "\n",
    "import numpy as np\n",
    "import matplotlib.pyplot as plt\n",
    "from matplotlib.gridspec import GridSpec\n",
    "\n",
    "#Q-CTRL Open Controls\n",
    "from qctrlopencontrols import new_predefined_dds, convert_dds_to_program\n",
    "\n",
    "#pyquil\n",
    "from pyquil.api import get_qc\n",
    "from pyquil.noise import dephasing_kraus_map"
   ]
  },
  {
   "cell_type": "markdown",
   "metadata": {},
   "source": [
    "## Running a DDS on a Pyquil Quantum Virtual Machine (QVM)\n",
    "\n",
    "This section demonstrates how a DDS can be prepared and a corresponding Pyquil program made and executed on a Quantum Virtual Simulator (QVM).\n",
    "\n",
    "Q-CTRL Open Controls defines a DDS as a set of instantaneous unitary operations performed at specific offset times, see the [technical documentation](https://docs.q-ctrl.com/control-library#dynamical-decoupling-sequences) for mathematical details.\n",
    "\n",
    "Pyquil implements quantum computation through `Program` that contains a series of [gates](http://docs.rigetti.com/en/stable/apidocs/gates.html). How these gates are physically implemented will depend on the device that it is run on. Rigetti's documentation gives an oversight on Rigetti's [native gates](http://docs.rigetti.com/en/stable/apidocs/gates.html#native-gates-for-rigetti-qpus)] and other [physically realizable gates](http://docs.rigetti.com/en/stable/apidocs/gates.html#all-gates-and-instructions).\n",
    "\n",
    "If a user wants to add pauses (in time) during a computation they can use identity gates. However, executing a quantum program with identity gates cause the compiler to remove the gates before execution to increase efficiency. This can be avoided by using `Pragma PRESERVE` blocks (see [documentation](http://docs.rigetti.com/en/stable/basics.html#pragmas) for more detail and other usages of `Pragma`).All of $I$ (identity gate), $RX$ (X-rotation gates) and $RY$ (Y-rotation gates) take a fixed time (`gate_time`).\n",
    "\n",
    "Converting a DDS into a Pyquil program is an approximate process where the instantaneous unitaries are replaced with finite duration gates and the pauses in-between unitaries are replaced with the closest integer number of identity gates. The exact algorithm used to make this approximation is documented in the [source code](XXXX).\n",
    "\n",
    "In this example we will define a Quadratic DDS and convert it into a program that we can later run on a simulator. See [creating_a_DDS.ipynb](creating_a_DDS.ipynb) to see how other sequences can be created. We also create a Ramsey DDS of the same duration to compare as a benchmark. For both the sequences, we add a $X_{\\pi/2}$ rotation on either end of the sequence."
   ]
  },
  {
   "cell_type": "markdown",
   "metadata": {},
   "source": [
    "### Preparing the Sequences"
   ]
  },
  {
   "cell_type": "code",
   "execution_count": 2,
   "metadata": {},
   "outputs": [
    {
     "name": "stdout",
     "output_type": "stream",
     "text": [
      "Quadratic sequence:\n",
      "Duration = 5e-06\n",
      "Offsets = [0.0,0.06249999999999998,0.18749999999999994,0.24999999999999994,0.37499999999999994,0.6249999999999999,0.7499999999999999,0.8124999999999999,0.9375,1.0] x 5e-06\n",
      "Rabi Rotations = [0.5,0.0,0.0,1.0,0.0,0.0,1.0,0.0,0.0,0.5] x pi\n",
      "Azimuthal Angles = [0.0,0.0,0.0,0.0,0.0,0.0,0.0,0.0,0.0,0.0] x pi\n",
      "Detuning Rotations = [0.0,1.0,1.0,0.0,1.0,1.0,0.0,1.0,1.0,0.0] x pi\n",
      "Ramsey sequence:\n",
      "Duration = 5e-06\n",
      "Offsets = [0.0,1.0] x 5e-06\n",
      "Rabi Rotations = [0.5,0.5] x pi\n",
      "Azimuthal Angles = [0.0,0.0] x pi\n",
      "Detuning Rotations = [0.0,0.0] x pi\n"
     ]
    }
   ],
   "source": [
    "## Quadratic sequence, total duration: 20us\n",
    "quadratic_sequence = new_predefined_dds(\n",
    "    scheme='quadratic',\n",
    "    duration=5e-6, \n",
    "    number_inner_offsets=2,\n",
    "    number_outer_offsets=2,\n",
    "    pre_post_rotation=True,\n",
    "    name='Quadratic sequence')\n",
    "\n",
    "# Ramsey sequence, total duration: 20us\n",
    "ramsey_sequence = new_predefined_dds(\n",
    "    scheme='Ramsey',\n",
    "    duration=5e-6,\n",
    "    pre_post_rotation=True,\n",
    "    name='Ramsey sequence')\n",
    "\n",
    "print(quadratic_sequence)\n",
    "print(ramsey_sequence)"
   ]
  },
  {
   "cell_type": "markdown",
   "metadata": {},
   "source": [
    "### Constructing the Program Using Q-CTRL Open Controls\n",
    "\n",
    "To construct a `Program` from a DDS, we need to provide the DDS (`dynamic_decoupling_sequence`). You can also provide a list (`target_qubits`) to indicate qubit indices on which the DDS will be applied. `gate_time` is the delay (in seconds) introduced by each of the `identity` gates. If measurement is required, use `add_measurement=True`.\n",
    "\n",
    "In this example, we will use $0$th qubit and specify the `gate_time` to be $50$ $n$s (see [noise specification](http://docs.rigetti.com/en/stable/apidocs/autogen/pyquil.noise.add_decoherence_noise.html#pyquil.noise.add_decoherence_noise)). Both the DDS will require a measurement operation."
   ]
  },
  {
   "cell_type": "code",
   "execution_count": 3,
   "metadata": {},
   "outputs": [],
   "source": [
    "## Prepare the Pyquil related parameters\n",
    "'''\n",
    "target_qubits : list\n",
    "    A list of integers specifying the target qubits within the set of qubit registers\n",
    "'''\n",
    "target_qubits = [0]\n",
    "\n",
    "'''\n",
    "gate_time : float\n",
    "    Time delay (in seconds) introduced by identity gate\n",
    "'''\n",
    "gate_time = 50e-9\n",
    "\n",
    "'''\n",
    "add_measurement : bool\n",
    "    Indicates if the program requires a measurement step.\n",
    "'''\n",
    "add_measurement = True\n",
    "\n",
    "## convert the quadratic sequence to program\n",
    "quadratic_program = convert_dds_to_program(\n",
    "    dynamic_decoupling_sequence=quadratic_sequence,\n",
    "    target_qubits=target_qubits,\n",
    "    gate_time=gate_time,\n",
    "    add_measurement=add_measurement,\n",
    ")\n",
    "\n",
    "## convert the ramsey sequence to program\n",
    "ramsey_program = convert_dds_to_program(\n",
    "    dynamic_decoupling_sequence=ramsey_sequence,\n",
    "    target_qubits=target_qubits,\n",
    "    gate_time=gate_time,\n",
    "    add_measurement=add_measurement\n",
    ")"
   ]
  },
  {
   "cell_type": "markdown",
   "metadata": {},
   "source": [
    "### Plotting the DDS\n",
    "\n",
    "We can use Q-CTRL Open Controls to plot the DDS for comparison against their Pyquil program approximations."
   ]
  },
  {
   "cell_type": "code",
   "execution_count": 4,
   "metadata": {},
   "outputs": [
    {
     "data": {
      "image/png": "[encoded data removed]",
      "text/plain": [
       "<Figure size 1440x360 with 3 Axes>"
      ]
     },
     "metadata": {
      "needs_background": "light"
     },
     "output_type": "display_data"
    }
   ],
   "source": [
    "formatted_plot_data = quadratic_sequence.get_plot_formatted_arrays()\n",
    "rabi_rotations, azimuthal_angles, detuning_rotations, times = (\n",
    "    formatted_plot_data['rabi_rotations'],\n",
    "    formatted_plot_data['azimuthal_angles'],\n",
    "    formatted_plot_data['detuning_rotations'],\n",
    "    formatted_plot_data['times']\n",
    ")\n",
    "\n",
    "# prepare the axes\n",
    "figure, (rabi_plot_axis, azimuth_plot_axis, detuning_plot_axis) = plt.subplots(\n",
    "    3, 1, figsize=(20,5))\n",
    "\n",
    "rabi_plot_axis.plot(times, rabi_rotations)\n",
    "rabi_plot_axis.ticklabel_format(style='sci', axis='x', scilimits=(0, 2))\n",
    "rabi_plot_axis.set_xlabel('Time (sec)')\n",
    "rabi_plot_axis.set_ylabel('Rabi Rotations (rad)')\n",
    "\n",
    "azimuth_plot_axis.plot(times, azimuthal_angles)\n",
    "azimuth_plot_axis.ticklabel_format(style='sci', axis='x', scilimits=(0, 2))\n",
    "azimuth_plot_axis.set_xlabel('Time (sec)')\n",
    "azimuth_plot_axis.set_ylabel('Azimuthal Angle (rad)')\n",
    "\n",
    "detuning_plot_axis.plot(times, detuning_rotations)\n",
    "detuning_plot_axis.ticklabel_format(style='sci', axis='x', scilimits=(0, 2))\n",
    "detuning_plot_axis.set_xlabel('Time (sec)')\n",
    "detuning_plot_axis.set_ylabel('Detuning Rotation (rad)')\n",
    "\n",
    "plt.suptitle('Quadratic Sequence')\n",
    "plt.show()"
   ]
  },
  {
   "cell_type": "code",
   "execution_count": 5,
   "metadata": {
    "scrolled": true
   },
   "outputs": [
    {
     "data": {
      "image/png": "[encoded data removed]",
      "text/plain": [
       "<Figure size 1440x360 with 3 Axes>"
      ]
     },
     "metadata": {
      "needs_background": "light"
     },
     "output_type": "display_data"
    }
   ],
   "source": [
    "formatted_plot_data = ramsey_sequence.get_plot_formatted_arrays()\n",
    "rabi_rotations, azimuthal_angles, detuning_rotations, times = (\n",
    "    formatted_plot_data['rabi_rotations'],\n",
    "    formatted_plot_data['azimuthal_angles'],\n",
    "    formatted_plot_data['detuning_rotations'],\n",
    "    formatted_plot_data['times']\n",
    ")\n",
    "\n",
    "# prepare the axes\n",
    "figure, (rabi_plot_axis, azimuth_plot_axis, detuning_plot_axis) = plt.subplots(\n",
    "    1, 3, figsize=(20,5))\n",
    "\n",
    "rabi_plot_axis.plot(times, rabi_rotations)\n",
    "rabi_plot_axis.ticklabel_format(style='sci', axis='x', scilimits=(0, 2))\n",
    "rabi_plot_axis.set_xlabel('Time (sec)')\n",
    "rabi_plot_axis.set_ylabel('Rabi Rotations (rad)')\n",
    "\n",
    "azimuth_plot_axis.plot(times, azimuthal_angles)\n",
    "azimuth_plot_axis.ticklabel_format(style='sci', axis='x', scilimits=(0, 2))\n",
    "azimuth_plot_axis.set_xlabel('Time (sec)')\n",
    "azimuth_plot_axis.set_ylabel('Azimuthal Angle (rad)')\n",
    "\n",
    "detuning_plot_axis.plot(times, detuning_rotations)\n",
    "detuning_plot_axis.ticklabel_format(style='sci', axis='x', scilimits=(0, 2))\n",
    "detuning_plot_axis.set_xlabel('Time (sec)')\n",
    "detuning_plot_axis.set_ylabel('Detuning Rotation (rad)')\n",
    "\n",
    "plt.suptitle('Ramsey Sequence')\n",
    "plt.show()"
   ]
  },
  {
   "cell_type": "markdown",
   "metadata": {},
   "source": [
    "### Compiling and running the pograms\n",
    "\n",
    "We can use `pyQuil` to compile the programs generated by Q-CTRL Open Controls. In order to achieve that, we need to create a suitable QVM;1-qubit device in this case.\n",
    "\n",
    "NOTE: You will require ForestSDK to run the following segments. You need to start the the Quil Compiler and QVM in server mode. Execute the following commands in separate prompts.\n",
    "\n",
    "```\n",
    "$ quilc -S\n",
    "$ qvm -S\n",
    "```"
   ]
  },
  {
   "cell_type": "code",
   "execution_count": 6,
   "metadata": {},
   "outputs": [],
   "source": [
    "# NBVAL_SKIP\n",
    "\n",
    "# create a noiseless quantum device with 1-qubit\n",
    "quantum_device = get_qc(\"1q-qvm\")"
   ]
  },
  {
   "cell_type": "markdown",
   "metadata": {},
   "source": [
    "#### Compiling the Quadratic DDS Program\n",
    "\n",
    "Note that both DDS will be applied with $X_{\\pi/2}$ rotations at beginning and end, that is, at offsets of $[0, 20]$ $\\mu$s, to create the desired superposition state. The $X_{\\pi/2}$ rotations are added to the programs in the form of pre-post-gates that are implemented via Pyquil's $RX(\\pi/2)$ gate.\n",
    "\n",
    "The $RZ(\\pi)$ gates are $Z_\\pi$ pulses (a $\\pi$ rotation around $Z$-axis) and $RX(\\pi)$ correspond to $X_{\\pi}$ pulses (a $\\pi$ rotation around $X$-axis). The gates match the pulses in the DDS.\n",
    "\n",
    "The `I()` in the compiled program corresponds to the `identity` gates. In the DDS, the first $Z_{\\pi}$-pulse is applied at a delay of $0.3125$ $\\mu$s. This is approximated by introducing 6-`Id` gates with a delay of $50ns\\times 6=0.3$ $\\mu s$. Similarly, the second set of 12-`Id` gates introduces a delay of $0.6$ $\\mu s$ close to the actual delay of $0.9375-0.3125=0.625\\mu s$.\n",
    "\n",
    "The `Pragma` preserve blocks are added at the start and end of the program so that the compiler preserves the entire program. Without the preserve blocks the intermediate identity gates could be removed by compiler and hence the DDS would not have achieved the gaps required between the rotation operations.\n",
    "\n",
    "At the end of each program, we place a `measurement` operator to read out the result."
   ]
  },
  {
   "cell_type": "code",
   "execution_count": 7,
   "metadata": {},
   "outputs": [
    {
     "name": "stdout",
     "output_type": "stream",
     "text": [
      "DECLARE qubit-0 BIT[1]\n",
      "RX(pi/2) 0\n",
      "I 0\n",
      "I 0\n",
      "I 0\n",
      "I 0\n",
      "I 0\n",
      "I 0\n",
      "RZ(pi) 0\n",
      "I 0\n",
      "I 0\n",
      "I 0\n",
      "I 0\n",
      "I 0\n",
      "I 0\n",
      "I 0\n",
      "I 0\n",
      "I 0\n",
      "I 0\n",
      "I 0\n",
      "I 0\n",
      "RZ(pi) 0\n",
      "I 0\n",
      "I 0\n",
      "I 0\n",
      "I 0\n",
      "I 0\n",
      "I 0\n",
      "RX(pi) 0\n",
      "I 0\n",
      "I 0\n",
      "I 0\n",
      "I 0\n",
      "I 0\n",
      "I 0\n",
      "I 0\n",
      "I 0\n",
      "I 0\n",
      "I 0\n",
      "I 0\n",
      "I 0\n",
      "RZ(pi) 0\n",
      "I 0\n",
      "I 0\n",
      "I 0\n",
      "I 0\n",
      "I 0\n",
      "I 0\n",
      "I 0\n",
      "I 0\n",
      "I 0\n",
      "I 0\n",
      "I 0\n",
      "I 0\n",
      "I 0\n",
      "I 0\n",
      "I 0\n",
      "I 0\n",
      "I 0\n",
      "I 0\n",
      "I 0\n",
      "I 0\n",
      "I 0\n",
      "I 0\n",
      "I 0\n",
      "I 0\n",
      "I 0\n",
      "RZ(pi) 0\n",
      "I 0\n",
      "I 0\n",
      "I 0\n",
      "I 0\n",
      "I 0\n",
      "I 0\n",
      "I 0\n",
      "I 0\n",
      "I 0\n",
      "I 0\n",
      "I 0\n",
      "I 0\n",
      "RX(pi) 0\n",
      "I 0\n",
      "I 0\n",
      "I 0\n",
      "I 0\n",
      "I 0\n",
      "I 0\n",
      "RZ(pi) 0\n",
      "I 0\n",
      "I 0\n",
      "I 0\n",
      "I 0\n",
      "I 0\n",
      "I 0\n",
      "I 0\n",
      "I 0\n",
      "I 0\n",
      "I 0\n",
      "I 0\n",
      "I 0\n",
      "RZ(pi) 0\n",
      "I 0\n",
      "I 0\n",
      "I 0\n",
      "I 0\n",
      "I 0\n",
      "I 0\n",
      "RX(pi/2) 0\n",
      "MEASURE 0 qubit-0[0]\n",
      "HALT\n",
      "\n"
     ]
    }
   ],
   "source": [
    "# NBVAL_SKIP\n",
    "\n",
    "##Compiling the quadratic program\n",
    "executable_quadratic_program = quantum_device.compile(quadratic_program)\n",
    "## print the compiled program\n",
    "print(executable_quadratic_program.program)"
   ]
  },
  {
   "cell_type": "markdown",
   "metadata": {},
   "source": [
    "#### Compiling the Ramsey program\n",
    "\n",
    "Compiling the program for Ramsey sequence is similar."
   ]
  },
  {
   "cell_type": "code",
   "execution_count": 8,
   "metadata": {},
   "outputs": [
    {
     "name": "stdout",
     "output_type": "stream",
     "text": [
      "DECLARE qubit-0 BIT[1]\n",
      "RX(pi/2) 0\n",
      "I 0\n",
      "I 0\n",
      "I 0\n",
      "I 0\n",
      "I 0\n",
      "I 0\n",
      "I 0\n",
      "I 0\n",
      "I 0\n",
      "I 0\n",
      "I 0\n",
      "I 0\n",
      "I 0\n",
      "I 0\n",
      "I 0\n",
      "I 0\n",
      "I 0\n",
      "I 0\n",
      "I 0\n",
      "I 0\n",
      "I 0\n",
      "I 0\n",
      "I 0\n",
      "I 0\n",
      "I 0\n",
      "I 0\n",
      "I 0\n",
      "I 0\n",
      "I 0\n",
      "I 0\n",
      "I 0\n",
      "I 0\n",
      "I 0\n",
      "I 0\n",
      "I 0\n",
      "I 0\n",
      "I 0\n",
      "I 0\n",
      "I 0\n",
      "I 0\n",
      "I 0\n",
      "I 0\n",
      "I 0\n",
      "I 0\n",
      "I 0\n",
      "I 0\n",
      "I 0\n",
      "I 0\n",
      "I 0\n",
      "I 0\n",
      "I 0\n",
      "I 0\n",
      "I 0\n",
      "I 0\n",
      "I 0\n",
      "I 0\n",
      "I 0\n",
      "I 0\n",
      "I 0\n",
      "I 0\n",
      "I 0\n",
      "I 0\n",
      "I 0\n",
      "I 0\n",
      "I 0\n",
      "I 0\n",
      "I 0\n",
      "I 0\n",
      "I 0\n",
      "I 0\n",
      "I 0\n",
      "I 0\n",
      "I 0\n",
      "I 0\n",
      "I 0\n",
      "I 0\n",
      "I 0\n",
      "I 0\n",
      "I 0\n",
      "I 0\n",
      "I 0\n",
      "I 0\n",
      "I 0\n",
      "I 0\n",
      "I 0\n",
      "I 0\n",
      "I 0\n",
      "I 0\n",
      "I 0\n",
      "I 0\n",
      "I 0\n",
      "I 0\n",
      "I 0\n",
      "I 0\n",
      "I 0\n",
      "I 0\n",
      "I 0\n",
      "I 0\n",
      "I 0\n",
      "I 0\n",
      "RX(pi/2) 0\n",
      "MEASURE 0 qubit-0[0]\n",
      "HALT\n",
      "\n"
     ]
    }
   ],
   "source": [
    "# NBVAL_SKIP\n",
    "\n",
    "\n",
    "##Compiling the quadratic program\n",
    "executable_ramsey_program = quantum_device.compile(ramsey_program)\n",
    "## print the compiled program\n",
    "print(executable_ramsey_program.program)"
   ]
  },
  {
   "cell_type": "markdown",
   "metadata": {},
   "source": [
    "And here we count 100 `Id` operations, implementing a total delay of $100 \\times 50 ns = 5 \\mu s$"
   ]
  },
  {
   "cell_type": "markdown",
   "metadata": {},
   "source": [
    "### Run the programs using Pyquil's QVM\n",
    "\n",
    "Here, we will use the quantum device we created earlier to run the program. The experiment consists of `trials` repeats of the program on a qubit. Each run collects the state of the qubit as measurement. The result is displayed as a histogram. We here define small utility method to plot the trial results for QVM."
   ]
  },
  {
   "cell_type": "code",
   "execution_count": 9,
   "metadata": {},
   "outputs": [],
   "source": [
    "def plot_trial_outcomes(trial_result, qubit = 0):\n",
    "    \"\"\"Plots the trial result as probabilities.\n",
    "    Parameters\n",
    "    ----------\n",
    "    trial_result : dict\n",
    "        A dict where the key is the target qubits and value is a numy array of size\n",
    "        containing outcome of each trial in computational basis.\n",
    "    qubit: int\n",
    "        An interger corresponding to the target qubit.\n",
    "    \"\"\"\n",
    "    \n",
    "    qubit_trial_result = trial_result[qubit]\n",
    "    \n",
    "    number_of_trials = qubit_trial_result.shape[0]\n",
    "    \n",
    "    outcome = np.array([number_of_trials-np.sum(qubit_trial_result), np.sum(qubit_trial_result)])\n",
    "    outcome_probabilities = outcome / number_of_trials\n",
    "    \n",
    "    ##plotting the outcome probabilities\n",
    "    #ax = plt.subplots(1,1)\n",
    "    #ax.bar([0, 1], outcome_probabilities)\n",
    "    #ax.xlabel('States')\n",
    "    #ax.xticks(ticks=[0, 1])\n",
    "    #ax.ylabel('Probabilities')\n",
    "    plt.bar(np.array([0, 1]), outcome_probabilities)\n",
    "    plt.xticks(np.array([0, 1]), [0, 1])\n",
    "    plt.ylabel('Probabilities')\n",
    "    plt.xlabel('States')\n",
    "    \n",
    "'''\n",
    "trials : int\n",
    "    An integer denoting the number of repeats of the program on quantum device\n",
    "'''\n",
    "trials=100"
   ]
  },
  {
   "cell_type": "code",
   "execution_count": 10,
   "metadata": {},
   "outputs": [
    {
     "data": {
      "image/png": "[encoded data removed]",
      "text/plain": [
       "<Figure size 432x288 with 1 Axes>"
      ]
     },
     "metadata": {
      "needs_background": "light"
     },
     "output_type": "display_data"
    }
   ],
   "source": [
    "# NBVAL_SKIP\n",
    "\n",
    "## Run the quadratic sequence program, Get the result (counts of state |1> and |0>), plot the histogram\n",
    "quadratic_result = quantum_device.run_and_measure(quadratic_program, trials=trials)\n",
    "plot_trial_outcomes(quadratic_result)"
   ]
  },
  {
   "cell_type": "code",
   "execution_count": 11,
   "metadata": {},
   "outputs": [
    {
     "data": {
      "image/png": "[encoded data removed]",
      "text/plain": [
       "<Figure size 432x288 with 1 Axes>"
      ]
     },
     "metadata": {
      "needs_background": "light"
     },
     "output_type": "display_data"
    }
   ],
   "source": [
    "# NBVAL_SKIP\n",
    "\n",
    "## Run the ramsey sequence program, Get the result (counts of state |1> and |0>), plot the histogram\n",
    "ramsey_result = quantum_device.run_and_measure(ramsey_program, trials=trials)\n",
    "plot_trial_outcomes(ramsey_result)"
   ]
  },
  {
   "cell_type": "markdown",
   "metadata": {},
   "source": [
    "### Run the programs with noise\n",
    "\n",
    "We use the same DDS and program defined above. However, in this case, we define a dephasing noise for the identity gates through appropriate Kraus Operator with specific dephasing probability. We introduce the noise to the programs. We then run the programs with noisy gates on the same device created above. Outcome of these experiments are plotted and compared with that obtained from ideal gates."
   ]
  },
  {
   "cell_type": "code",
   "execution_count": 12,
   "metadata": {},
   "outputs": [],
   "source": [
    "# define a one-shot dephasing probability\n",
    "p = 0.02\n",
    "\n",
    "# define a dephasing with probability p\n",
    "kraus_operators = dephasing_kraus_map(p=p)"
   ]
  },
  {
   "cell_type": "markdown",
   "metadata": {},
   "source": [
    "#### Running the quadratic sequence program with noisy identity gates\n",
    "\n",
    "Here we will introduce the noisy identity gates to the quadratic sequence program, run it on the virtual device and plot the outcome."
   ]
  },
  {
   "cell_type": "code",
   "execution_count": 13,
   "metadata": {},
   "outputs": [
    {
     "data": {
      "image/png": "[encoded data removed]",
      "text/plain": [
       "<Figure size 432x288 with 1 Axes>"
      ]
     },
     "metadata": {
      "needs_background": "light"
     },
     "output_type": "display_data"
    }
   ],
   "source": [
    "# NBVAL_SKIP\n",
    "\n",
    "#add noise to the identity gates\n",
    "noisy_quadratic_program = quadratic_program.define_noisy_gate(\"I\", [1], kraus_operators)\n",
    "#obtain the noisy result\n",
    "noisy_quadratic_result = quantum_device.run_and_measure(noisy_quadratic_program, trials=trials)\n",
    "#plot the noisy results\n",
    "plot_trial_outcomes(noisy_quadratic_result)"
   ]
  },
  {
   "cell_type": "markdown",
   "metadata": {},
   "source": [
    "#### Running the ramsey sequence program with noisy identity gates\n",
    "\n",
    "Here we will introduce the noisy identity gates to the ramsey sequence program, run it on the virtual device and plot the outcome."
   ]
  },
  {
   "cell_type": "code",
   "execution_count": 14,
   "metadata": {},
   "outputs": [
    {
     "data": {
      "image/png": "[encoded data removed]",
      "text/plain": [
       "<Figure size 432x288 with 1 Axes>"
      ]
     },
     "metadata": {
      "needs_background": "light"
     },
     "output_type": "display_data"
    }
   ],
   "source": [
    "# NBVAL_SKIP\n",
    "\n",
    "#add noise to the identity gates\n",
    "noisy_ramsey_program = ramsey_program.define_noisy_gate(\"I\", target_qubits, kraus_operators)\n",
    "#obtain the noisy result\n",
    "noisy_ramsey_result = quantum_device.run_and_measure(noisy_ramsey_program, trials=trials)\n",
    "#plot the noisy results\n",
    "plot_trial_outcomes(noisy_ramsey_result)"
   ]
  },
  {
   "cell_type": "markdown",
   "metadata": {},
   "source": [
    "## Reducing Errors by Increasing the Coherence Time\n",
    "\n",
    "In the ideal noiseless simulator, both the Ramsey DDS and Quadratic DDS produced exactly the same outcome, the $|1 \\rangle$ state with probability 1. However, in the case of noisy channels, we can see a marked difference. The Quadratic DDS produced a probability distribution closer to the expected outcome. This is because the Quadratic DDS is able to cancel the effects of magnetic noise in the environment - extending the [T2 time](https://en.wikipedia.org/wiki/Spin–spin_relaxation), and effectively increasing the coherence of the qubit."
   ]
  }
 ],
 "metadata": {
  "kernelspec": {
   "display_name": "Python 3",
   "language": "python",
   "name": "python3"
  },
  "language_info": {
   "codemirror_mode": {
    "name": "ipython",
    "version": 3
   },
   "file_extension": ".py",
   "mimetype": "text/x-python",
   "name": "python",
   "nbconvert_exporter": "python",
   "pygments_lexer": "ipython3",
   "version": "3.6.8"
  }
 },
 "nbformat": 4,
 "nbformat_minor": 2
}
