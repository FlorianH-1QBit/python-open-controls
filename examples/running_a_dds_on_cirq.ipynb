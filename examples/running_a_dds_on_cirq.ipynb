{
 "cells": [
  {
   "cell_type": "markdown",
   "metadata": {},
   "source": [
    "# Running a Dynamical Decoupling Sequence on Cirq\n",
    "\n",
    "Q-CTRL Open Controls provides easy-to-use methods to construct Dynamical Decoupling Sequences (DDS) according to well-known dynamical decoupling schemes. This is described in the [creating a DDS notebook](creating_a_dds.ipynb). Here we show how a DDS from Q-CTRL Open Controls can be exported to a `cirq.Circuit` to run in `cirq.Simulator`.\n",
    "\n",
    "Note : You can install `cirq` by simply running `pip install cirq`. Please consult [Cirq Documentation](https://cirq.readthedocs.io/en/stable/) for installation instruction and general introduction to `cirq` package."
   ]
  },
  {
   "cell_type": "markdown",
   "metadata": {},
   "source": [
    "## Imports"
   ]
  },
  {
   "cell_type": "code",
   "execution_count": 1,
   "metadata": {},
   "outputs": [],
   "source": [
    "#General\n",
    "\n",
    "import numpy as np\n",
    "import matplotlib.pyplot as plt\n",
    "from matplotlib.gridspec import GridSpec\n",
    "\n",
    "#Q-CTRL Open Controls\n",
    "from qctrlopencontrols import new_predefined_dds, convert_dds_to_cirq_circuit\n",
    "\n",
    "#Cirq\n",
    "import cirq"
   ]
  },
  {
   "cell_type": "markdown",
   "metadata": {},
   "source": [
    "## Running a DDS on a Cirq Simulator\n",
    "\n",
    "This section demonstrates how a DDS can be prepared and a corresponding `cirq.Circuit` made and executed on a `cirq` simulator (`cirq.Simulator`).\n",
    "\n",
    "Q-CTRL Open Controls defines a DDS as a set of instantaneous unitary operations performed at specific offset times, see the [technical documentation](https://docs.q-ctrl.com/control-library#dynamical-decoupling-sequences) for mathematical details.\n",
    "\n",
    "`cirq` implements quantum computation through a series of [gates](https://cirq.readthedocs.io/en/stable/gates.html). Standard way to create a circuit is through `cirq.Circuit` that accepts a list of valid gates. If a user wants to add pauses (in time) during a computation they can use identity gates. Alternatively, `cirq` provides `ScheduledOperation` that specifies an operation (application of a gate operating on one more qubits) at a certain instant measured in \"nano-seconds\" or \"pico-seconds\" from the start of the sequence. A list of `ScheduledOperation` is collated by `cirq.Schedule`. Both `cirq.Circuit` and `cirq.Schedule` can be used in `cirq.Simulator` to simulate the circuit. We provide a `circuit_type` option to select between `cirq.Circuit` and `cirq.Schedule` as desired output from the conversion method.\n",
    "\n",
    "Converting a DDS into a `cirq` circuit is an approximate process where the instantaneous unitaries are replaced with finite duration gates. Morver, in `cirq.Circuit`, the pauses in-between unitaries are replaced with the closest integer number of identity gates. The exact algorithm used to make this approximation is documented in the [source code](../qctrlopencontrols/cirq/cirq_circuit.py).\n",
    "\n",
    "In this example we will define a Quadratic DDS and convert it into a circuit that we can later run on a simulator. See [creating_a_DDS.ipynb](creating_a_DDS.ipynb) to see how other sequences can be created."
   ]
  },
  {
   "cell_type": "markdown",
   "metadata": {},
   "source": [
    "### Preparing the Sequences"
   ]
  },
  {
   "cell_type": "code",
   "execution_count": 2,
   "metadata": {},
   "outputs": [
    {
     "name": "stdout",
     "output_type": "stream",
     "text": [
      "Quadratic sequence:\n",
      "Duration = 2e-05\n",
      "Offsets = [0.0,0.06249999999999998,0.18749999999999994,0.24999999999999994,0.37499999999999994,0.6249999999999999,0.7499999999999999,0.8124999999999999,0.9375,1.0] x 2e-05\n",
      "Rabi Rotations = [0.0,0.0,0.0,1.0,0.0,0.0,1.0,0.0,0.0,0.0] x pi\n",
      "Azimuthal Angles = [0.0,0.0,0.0,0.0,0.0,0.0,0.0,0.0,0.0,0.0] x pi\n",
      "Detuning Rotations = [0.0,1.0,1.0,0.0,1.0,1.0,0.0,1.0,1.0,0.0] x pi\n"
     ]
    }
   ],
   "source": [
    "## Quadratic sequence, total duration: 20us\n",
    "quadratic_sequence = new_predefined_dds(\n",
    "    scheme='quadratic',\n",
    "    duration=20e-6, \n",
    "    number_inner_offsets=2,\n",
    "    number_outer_offsets=2,\n",
    "    name='Quadratic sequence')\n",
    "print(quadratic_sequence)\n"
   ]
  },
  {
   "cell_type": "markdown",
   "metadata": {},
   "source": [
    "### Constructing the Circuit Using Q-CTRL Open Controls\n",
    "\n",
    "To construct a circuit/schedule from a DDS, we need to provide the DDS (`dynamic_decoupling_sequence`). You can also provide a list of target qubits (each of `cirq.Qid` type) to indicate qubits on which the DDS will be applied. `gate_time` is the delay (in seconds) introduced by each of the gates. If measurement is required, use `add_measurement=True`.\n",
    "\n",
    "See the [source code](../qctrlopencontrols/cirq/cirq_circuit.py) for more information and other parameters that may be useful.\n",
    "\n",
    "In this example, we will use the default single qubit on 1-D lattice and $X_{\\pi/2}$ rotation as the pre-post gate. We specify the `gate_time` to be $0.4$ $\\mu$s. Finally we will add a measurement operation. In this example we will convert the DDS into a `cirq.Circuit`."
   ]
  },
  {
   "cell_type": "code",
   "execution_count": 3,
   "metadata": {},
   "outputs": [],
   "source": [
    "## Prepare the conversion related parameters\n",
    "'''\n",
    "gate_time : float\n",
    "    Time delay (in seconds) introduced by identity gate\n",
    "'''\n",
    "gate_time = 0.4e-6\n",
    "\n",
    "'''\n",
    "add_measurement : bool\n",
    "    Indicates if the circuit requires a measurement step.\n",
    "    Required for 'qasm_simulator' and real device backends\n",
    "'''\n",
    "add_measurement = True\n",
    "\n",
    "'''\n",
    "circuit_type : str\n",
    "    One of 'scheduled circuit' (convert to cirq.Schedule) or \n",
    "    'standard circuit' (convert to cirq.Circuit). See source code\n",
    "    documentation for more details.\n",
    "'''\n",
    "circuit_type = 'standard circuit'\n",
    "\n",
    "\n",
    "## convert the quadratic sequence to cirq.Circuit\n",
    "quadratic_cirq_circuit = convert_dds_to_cirq_circuit(\n",
    "    dynamic_decoupling_sequence=quadratic_sequence,\n",
    "    gate_time=gate_time,\n",
    "    add_measurement=add_measurement,\n",
    "    circuit_type=circuit_type\n",
    ")"
   ]
  },
  {
   "cell_type": "markdown",
   "metadata": {},
   "source": [
    "### Plotting the DDS\n",
    "\n",
    "We can use Q-CTRL Open Controls to plot the DDS for comparison against its `cirq` circuit approximations."
   ]
  },
  {
   "cell_type": "code",
   "execution_count": 4,
   "metadata": {},
   "outputs": [
    {
     "data": {
      "image/png": "[encoded data removed]",
      "text/plain": [
       "<Figure size 1440x360 with 3 Axes>"
      ]
     },
     "metadata": {
      "needs_background": "light"
     },
     "output_type": "display_data"
    }
   ],
   "source": [
    "formatted_plot_data = quadratic_sequence.get_plot_formatted_arrays()\n",
    "rabi_rotations, azimuthal_angles, detuning_rotations, times = (\n",
    "    formatted_plot_data['rabi_rotations'],\n",
    "    formatted_plot_data['azimuthal_angles'],\n",
    "    formatted_plot_data['detuning_rotations'],\n",
    "    formatted_plot_data['times']\n",
    ")\n",
    "\n",
    "# prepare the axes\n",
    "figure, (rabi_plot_axis, azimuth_plot_axis, detuning_plot_axis) = plt.subplots(\n",
    "    3, 1, figsize=(20,5))\n",
    "\n",
    "rabi_plot_axis.plot(times, rabi_rotations)\n",
    "rabi_plot_axis.ticklabel_format(style='sci', axis='x', scilimits=(0, 2))\n",
    "rabi_plot_axis.set_xlabel('Time (sec)')\n",
    "rabi_plot_axis.set_ylabel('Rabi Rotations (rad)')\n",
    "\n",
    "azimuth_plot_axis.plot(times, azimuthal_angles)\n",
    "azimuth_plot_axis.ticklabel_format(style='sci', axis='x', scilimits=(0, 2))\n",
    "azimuth_plot_axis.set_xlabel('Time (sec)')\n",
    "azimuth_plot_axis.set_ylabel('Azimuthal Angle (rad)')\n",
    "\n",
    "detuning_plot_axis.plot(times, detuning_rotations)\n",
    "detuning_plot_axis.ticklabel_format(style='sci', axis='x', scilimits=(0, 2))\n",
    "detuning_plot_axis.set_xlabel('Time (sec)')\n",
    "detuning_plot_axis.set_ylabel('Detuning Rotation (rad)')\n",
    "\n",
    "plt.suptitle('Quadratic Sequence')\n",
    "plt.show()"
   ]
  },
  {
   "cell_type": "markdown",
   "metadata": {},
   "source": [
    "### Printing the Circuit\n",
    "\n",
    "We can print a `cirq.Circuit` generated by Q-CTRL Open Controls.\n",
    "\n",
    "Note that both DDS will be applied with $X_{\\pi/2}$ rotations at beginning and end, that is, at offsets of $[0, 20]$ $\\mu$s, to create the desired superposition state. The $X_{\\pi/2}$ rotations are not part of the DDS objects but are added to the circuits in the form of pre-post-gates that are implemented via `cirq.SingleQubitGate`. The `SingleQubitGate` is specified by a $2\\times 2$ unitary matrix. In this case, the following unitary matrix (corresponding to $X_{\\pi/2}$ rotation) is supplied as default by the conversion method.\n",
    "\n",
    "$$\n",
    "\\frac{1}{\\sqrt{2}}\\times\\begin{bmatrix}1 & -1j\\\\-1j & 1\\end{bmatrix}\n",
    "$$\n",
    "\n",
    "The $Rz(\\pi)$ gates are $Z_\\pi$ pulses (a $\\pi$ rotation around $Z$-axis) and $Rx(\\pi)$ gates correspond to $X_{\\pi}$ pulses (a $\\pi$ rotation around $X$-axis). The gates match the pulses in the DDS.\n",
    "\n",
    "The `Id` in the drawing corresponds to the `identity` gate. In the DDS, the first $Z_{\\pi}$-pulse is applied at a delay of $1.25$ $\\mu$s. This is approximated by introducing 3-`Id` gates with a delay of $0.4\\times 3=1.2$ $\\mu$s. Application of $Z_{\\pi}$ pulse will take another $0.4\\mu$s. Similarly, the second set of 5 `Id` gates introduces a delay of $2$ $\\mu$s close to the actual delay of $3.75-1.65=2.10$ microseconds.\n",
    "\n",
    "At the end of each circuit, we place a `measurement` ($M$) operator to read out the result."
   ]
  },
  {
   "cell_type": "code",
   "execution_count": 5,
   "metadata": {},
   "outputs": [
    {
     "name": "stdout",
     "output_type": "stream",
     "text": [
      "      ┌                         ┐                                                                                                                                                                                                                                           ┌                         ┐\n",
      "0: ───│0.707+0.j    0.   -0.707j│───I───I───I───I───Rz(π)───I───I───I───I───I───Rz(π)───I───I───Rx(π)───I───I───I───I───I───Rz(π)───I───I───I───I───I───I───I───I───I───I───I───Rz(π)───I───I───I───I───I───Rx(π)───I───I───Rz(π)───I───I───I───I───I───Rz(π)───I───I───I───│0.707+0.j    0.   -0.707j│───M('qubit-0')───\n",
      "      │0.   -0.707j 0.707+0.j   │                                                                                                                                                                                                                                           │0.   -0.707j 0.707+0.j   │\n",
      "      └                         ┘                                                                                                                                                                                                                                           └                         ┘\n"
     ]
    }
   ],
   "source": [
    "##Printing the Quadratic Circuit\n",
    "print(quadratic_cirq_circuit)"
   ]
  },
  {
   "cell_type": "markdown",
   "metadata": {},
   "source": [
    "### Run the Circuit on Cirq Simulator using Cirq API\n",
    "\n",
    "Consult [Simulation](https://cirq.readthedocs.io/en/stable/simulation.html) for a description of available simulation APIs and their respective properties. Here, we will use the `run` method of `cirq.Simulator` to run the circuit. The circuit is run multiple times upto `repetitions` times. The result is printed after the simulation."
   ]
  },
  {
   "cell_type": "code",
   "execution_count": 6,
   "metadata": {},
   "outputs": [
    {
     "name": "stdout",
     "output_type": "stream",
     "text": [
      "qubit-0=1111111111111111111111111111111111111111111111111111111111111111111111111111111111111111111111111111\n",
      "Counter({1: 100})\n"
     ]
    }
   ],
   "source": [
    "## Prepares the simulator parameters\n",
    "'''\n",
    "repetitions : int\n",
    "    The number of times the circuit will be executed\n",
    "'''\n",
    "repetitions = 100\n",
    "\n",
    "simulator = cirq.Simulator()\n",
    "result = simulator.run(quadratic_cirq_circuit, repetitions=repetitions)\n",
    "\n",
    "#print the outcome of each repetition\n",
    "print(result)\n",
    "\n",
    "#you can also collect the outcome as histogram (calculated as dict)\n",
    "print(result.histogram(key=['qubit-0']))"
   ]
  }
 ],
 "metadata": {
  "kernelspec": {
   "display_name": "Python 3",
   "language": "python",
   "name": "python3"
  },
  "language_info": {
   "codemirror_mode": {
    "name": "ipython",
    "version": 3
   },
   "file_extension": ".py",
   "mimetype": "text/x-python",
   "name": "python",
   "nbconvert_exporter": "python",
   "pygments_lexer": "ipython3",
   "version": "3.6.8"
  }
 },
 "nbformat": 4,
 "nbformat_minor": 2
}
