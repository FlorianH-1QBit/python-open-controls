{
 "cells": [
  {
   "cell_type": "markdown",
   "metadata": {},
   "source": [
    "# Creating a Driven Control\n",
    "\n",
    "This notebook illustrates how to use Q-CTRL Open Controls to create a driven control.\n",
    "\n",
    "A driven control represents a continuous drive on a the transition of a qubit with a tunable detuning. The Open Controls package allows you to generate driven controls that enact dynamically corrected gates (DCG). These dynamically corrected gates are able to achieve an arbitrary rotation of the bloch sphere (around any point on the equator), in a manner that is robust to dephasing and/or control noise. DCGs can be used as drop-in gate replacements to suppress errors in a quantum computation.\n",
    "\n",
    "Q-CTRL Open Controls can be used to create a driven control from a library of well-known control schemes. Once created, it can be printed, plotted, exported in CSV or JSON format for use on a quantum computer or any of [Q-CTRL's products](https://q-ctrl.com/products/)."
   ]
  },
  {
   "cell_type": "markdown",
   "metadata": {},
   "source": [
    "## Imports"
   ]
  },
  {
   "cell_type": "code",
   "execution_count": 1,
   "metadata": {},
   "outputs": [],
   "source": [
    "import numpy as np\n",
    "import matplotlib.pyplot as plt\n",
    "from qctrlopencontrols import new_predefined_driven_control, DrivenControl"
   ]
  },
  {
   "cell_type": "markdown",
   "metadata": {},
   "source": [
    "## Predefined Driven Control Schemes\n",
    "\n",
    "Q-CTRL Open Controls can create driven controls according to the following dynamically corrected gate protocols:\n",
    "\n",
    "1. `primitive`\n",
    "2. `BB1`\n",
    "3. `SK1`\n",
    "4. `CORPSE`\n",
    "5. `WAMF1`\n",
    "6. `SCROFULOUS`\n",
    "7. `COPRSE in BB1`\n",
    "8. `CORPSE in SK1`\n",
    "9. `CORPSE in SCROFULOUS`\n",
    "\n",
    "See the [technical documentation](https://docs.q-ctrl.com/control-library) for details."
   ]
  },
  {
   "cell_type": "markdown",
   "metadata": {},
   "source": [
    "## Creating and Printing a Driven Control\n",
    "\n",
    "A driven control is made of a continuous drive on the qubits transition with a tunable detuning. The continuous drive is described by a piecewise constant function made of a set of segments. Each drive segment has a `rabi_rate` applied at a `azimuthal_angle` for a `duration`, with a `detuning`. The mathematical definition of a driven control is explained in the [technical documentation](http://docs.q-ctrl.com/control-library#dynamical-decoupling-sequences).\n",
    "\n",
    "Q-CTRL Open controls can generate a driven control from a library of dynamically corrected gate schemes, mathematically defined in the [technical documentation](https://docs.q-ctrl.com/control-formats#dynamical-decoupling-sequences). All dynamically corrected gates are derived from three quantities: \n",
    "\n",
    "* `maximum_rabi_rate` the maximum achievable rabi rate.\n",
    "* `rabi_rotation` the total rotation of the bloch sphere.\n",
    "* `azimuthal_angle` the angle to the center point of the rotation on the equator. "
   ]
  },
  {
   "cell_type": "code",
   "execution_count": 2,
   "metadata": {},
   "outputs": [
    {
     "ename": "TypeError",
     "evalue": "unsupported format string passed to numpy.ndarray.__format__",
     "output_type": "error",
     "traceback": [
      "\u001b[0;31m---------------------------------------------------------------------------\u001b[0m",
      "\u001b[0;31mTypeError\u001b[0m                                 Traceback (most recent call last)",
      "\u001b[0;32m<ipython-input-2-f717c37d509f>\u001b[0m in \u001b[0;36m<module>\u001b[0;34m()\u001b[0m\n\u001b[1;32m      7\u001b[0m     \u001b[0mname\u001b[0m\u001b[0;34m=\u001b[0m\u001b[0;34m'Primitive X-pi'\u001b[0m\u001b[0;34m\u001b[0m\u001b[0;34m\u001b[0m\u001b[0m\n\u001b[1;32m      8\u001b[0m )\n\u001b[0;32m----> 9\u001b[0;31m \u001b[0mprint\u001b[0m\u001b[0;34m(\u001b[0m\u001b[0mprim\u001b[0m\u001b[0;34m)\u001b[0m\u001b[0;34m\u001b[0m\u001b[0;34m\u001b[0m\u001b[0m\n\u001b[0m",
      "\u001b[0;32m~/Dropbox/Q-Ctrl/Code/OpenControls/python-open-controls/qctrlopencontrols/driven_controls/driven_control.py\u001b[0m in \u001b[0;36m__str__\u001b[0;34m(self)\u001b[0m\n\u001b[1;32m    590\u001b[0m             pretty_amplitudes_str = ', '.join(\n\u001b[1;32m    591\u001b[0m                 [decimals_format_str.format(amplitude/np.pi).rstrip('0').rstrip('.')\n\u001b[0;32m--> 592\u001b[0;31m                  for amplitude in [self.amplitude_x, self.amplitude_y, self.detunings]]\n\u001b[0m\u001b[1;32m    593\u001b[0m             )\n\u001b[1;32m    594\u001b[0m             driven_control_string.append(\n",
      "\u001b[0;32m~/Dropbox/Q-Ctrl/Code/OpenControls/python-open-controls/qctrlopencontrols/driven_controls/driven_control.py\u001b[0m in \u001b[0;36m<listcomp>\u001b[0;34m(.0)\u001b[0m\n\u001b[1;32m    590\u001b[0m             pretty_amplitudes_str = ', '.join(\n\u001b[1;32m    591\u001b[0m                 [decimals_format_str.format(amplitude/np.pi).rstrip('0').rstrip('.')\n\u001b[0;32m--> 592\u001b[0;31m                  for amplitude in [self.amplitude_x, self.amplitude_y, self.detunings]]\n\u001b[0m\u001b[1;32m    593\u001b[0m             )\n\u001b[1;32m    594\u001b[0m             driven_control_string.append(\n",
      "\u001b[0;31mTypeError\u001b[0m: unsupported format string passed to numpy.ndarray.__format__"
     ]
    }
   ],
   "source": [
    "## Primitive Pi pulse in X\n",
    "prim = new_predefined_driven_control(\n",
    "    rabi_rotation=np.pi,\n",
    "    azimuthal_angle=0,\n",
    "    maximum_rabi_rate=2 * np.pi,\n",
    "    scheme='primitive',\n",
    "    name='Primitive X-pi'\n",
    ")\n",
    "print(prim)"
   ]
  },
  {
   "cell_type": "code",
   "execution_count": 4,
   "metadata": {},
   "outputs": [
    {
     "ename": "TypeError",
     "evalue": "unsupported format string passed to numpy.ndarray.__format__",
     "output_type": "error",
     "traceback": [
      "\u001b[0;31m---------------------------------------------------------------------------\u001b[0m",
      "\u001b[0;31mTypeError\u001b[0m                                 Traceback (most recent call last)",
      "\u001b[0;32m<ipython-input-4-f2210e970e61>\u001b[0m in \u001b[0;36m<module>\u001b[0;34m()\u001b[0m\n\u001b[1;32m      7\u001b[0m     \u001b[0mname\u001b[0m\u001b[0;34m=\u001b[0m\u001b[0;34m'BB1 X-pi'\u001b[0m\u001b[0;34m\u001b[0m\u001b[0;34m\u001b[0m\u001b[0m\n\u001b[1;32m      8\u001b[0m )\n\u001b[0;32m----> 9\u001b[0;31m \u001b[0mprint\u001b[0m\u001b[0;34m(\u001b[0m\u001b[0mbb1_x\u001b[0m\u001b[0;34m)\u001b[0m\u001b[0;34m\u001b[0m\u001b[0;34m\u001b[0m\u001b[0m\n\u001b[0m",
      "\u001b[0;32m~/Dropbox/Q-Ctrl/Code/OpenControls/python-open-controls/qctrlopencontrols/driven_controls/driven_control.py\u001b[0m in \u001b[0;36m__str__\u001b[0;34m(self)\u001b[0m\n\u001b[1;32m    590\u001b[0m             pretty_amplitudes_str = ', '.join(\n\u001b[1;32m    591\u001b[0m                 [decimals_format_str.format(amplitude/np.pi).rstrip('0').rstrip('.')\n\u001b[0;32m--> 592\u001b[0;31m                  for amplitude in [self.amplitude_x, self.amplitude_y, self.detunings]]\n\u001b[0m\u001b[1;32m    593\u001b[0m             )\n\u001b[1;32m    594\u001b[0m             driven_control_string.append(\n",
      "\u001b[0;32m~/Dropbox/Q-Ctrl/Code/OpenControls/python-open-controls/qctrlopencontrols/driven_controls/driven_control.py\u001b[0m in \u001b[0;36m<listcomp>\u001b[0;34m(.0)\u001b[0m\n\u001b[1;32m    590\u001b[0m             pretty_amplitudes_str = ', '.join(\n\u001b[1;32m    591\u001b[0m                 [decimals_format_str.format(amplitude/np.pi).rstrip('0').rstrip('.')\n\u001b[0;32m--> 592\u001b[0;31m                  for amplitude in [self.amplitude_x, self.amplitude_y, self.detunings]]\n\u001b[0m\u001b[1;32m    593\u001b[0m             )\n\u001b[1;32m    594\u001b[0m             driven_control_string.append(\n",
      "\u001b[0;31mTypeError\u001b[0m: unsupported format string passed to numpy.ndarray.__format__"
     ]
    }
   ],
   "source": [
    "## BB1 Pi pulse in X (implements the same effective operation as above)\n",
    "bb1_x = new_predefined_driven_control(\n",
    "    rabi_rotation=np.pi,\n",
    "    azimuthal_angle=0,\n",
    "    maximum_rabi_rate=2 * np.pi,\n",
    "    scheme='BB1',\n",
    "    name='BB1 X-pi'\n",
    ")\n",
    "print(bb1_x)"
   ]
  },
  {
   "cell_type": "code",
   "execution_count": 8,
   "metadata": {},
   "outputs": [
    {
     "name": "stdout",
     "output_type": "stream",
     "text": [
      "BB1 Y-pi/2:\n",
      "X Amplitudes: [+0, -1.984, +1.86, -1.984] x pi\n",
      "Y Amplitudes: [+2, -0.25, +0.734, -0.25] x pi\n",
      "Z Amplitudes: [+0, +0, +0, +0] x pi\n",
      "Durations:    [+0.111,+0.222,+0.444,+0.222] x 2.25s\n"
     ]
    }
   ],
   "source": [
    "## BB1 Pi/2 pulse in Y\n",
    "bb1_y = new_predefined_driven_control(\n",
    "    rabi_rotation=np.pi/2,\n",
    "    azimuthal_angle=np.pi/2,\n",
    "    maximum_rabi_rate=2 * np.pi,\n",
    "    scheme='BB1',\n",
    "    name='BB1 Y-pi/2'\n",
    ")\n",
    "print(bb1_y)"
   ]
  },
  {
   "cell_type": "code",
   "execution_count": 9,
   "metadata": {},
   "outputs": [
    {
     "name": "stdout",
     "output_type": "stream",
     "text": [
      "SK1 Y-pi/2:\n",
      "X Amplitudes: [+0, +1.984, -1.984] x pi\n",
      "Y Amplitudes: [+2, -0.25, -0.25] x pi\n",
      "Z Amplitudes: [+0, +0, +0] x pi\n",
      "Durations:    [+0.111,+0.444,+0.444] x 2.25s\n"
     ]
    }
   ],
   "source": [
    "## SK1 Pi/2 pulse in Y\n",
    "sk1 = new_predefined_driven_control(\n",
    "    rabi_rotation=np.pi/2,\n",
    "    azimuthal_angle=np.pi/2,\n",
    "    maximum_rabi_rate=2 * np.pi,\n",
    "    scheme='SK1',\n",
    "    name='SK1 Y-pi/2'\n",
    ")\n",
    "print(sk1)"
   ]
  },
  {
   "cell_type": "code",
   "execution_count": 10,
   "metadata": {},
   "outputs": [
    {
     "name": "stdout",
     "output_type": "stream",
     "text": [
      "CORPSE X-pi/2:\n",
      "X Amplitudes: [+2, -2, +2] x pi\n",
      "Y Amplitudes: [+0, +0, +0] x pi\n",
      "Z Amplitudes: [+0, +0, +0] x pi\n",
      "Durations:    [+0.528,+0.438,+0.033] x 2.0199465438373845s\n"
     ]
    }
   ],
   "source": [
    "## CORPSE Pi/2 pulse in X\n",
    "corpse = new_predefined_driven_control(\n",
    "    rabi_rotation=np.pi/2,\n",
    "    azimuthal_angle=0,\n",
    "    maximum_rabi_rate=2 * np.pi,\n",
    "    scheme='CORPSE',\n",
    "    name='CORPSE X-pi/2'\n",
    ")\n",
    "print(corpse)"
   ]
  },
  {
   "cell_type": "markdown",
   "metadata": {},
   "source": [
    "### Plotting a driven control\n",
    "\n",
    "Once created, Q-CTRL Open Controls provides the method `get_plot_formatted_arrays` to create a set of formatted arrays ready to be immediately plotted with Matplotlib. We use the `BB1` as a driven control to generate plots of the `rabi_rates`, `azimuthal_angles` and `detunings`."
   ]
  },
  {
   "cell_type": "code",
   "execution_count": 7,
   "metadata": {},
   "outputs": [
    {
     "data": {
      "image/png": "[encoded data removed]",
      "text/plain": [
       "<Figure size 1440x360 with 3 Axes>"
      ]
     },
     "metadata": {},
     "output_type": "display_data"
    }
   ],
   "source": [
    "formatted_plot_data = bb1_x.get_plot_formatted_arrays(coordinates='cylindrical')\n",
    "rabi_rates, azimuthal_angles, detunings, times = (formatted_plot_data['rabi_rates'],\n",
    "                                                   formatted_plot_data['azimuthal_angles'],\n",
    "                                                   formatted_plot_data['detunings'],\n",
    "                                                   formatted_plot_data['times'])\n",
    "# prepare the axes\n",
    "figure, (x_axis, y_axis, z_axis) = plt.subplots(1, 3, figsize=(20,5))\n",
    "\n",
    "x_axis.fill_between(times, rabi_rates, 0, alpha=0.15, color='#680cea')\n",
    "x_axis.plot(times, rabi_rates, color='#680cea')\n",
    "x_axis.set_xlabel('Time (s)')\n",
    "x_axis.set_ylabel('Rabi Rate (radHz)')\n",
    "\n",
    "y_axis.fill_between(times, azimuthal_angles, 0, alpha=0.15, color='#680cea')\n",
    "y_axis.plot(times, azimuthal_angles, color='#680cea')\n",
    "y_axis.set_xlabel('Time (s)')\n",
    "y_axis.set_ylabel('Azimuthal Angle (rad)')\n",
    "\n",
    "z_axis.fill_between(times, detunings, 0, alpha=0.15, color='#680cea')\n",
    "z_axis.plot(times, detunings, color='#680cea')\n",
    "z_axis.set_xlabel('Time (s)')\n",
    "z_axis.set_ylabel('Detuning (radHz)')\n",
    "\n",
    "plt.show()"
   ]
  },
  {
   "cell_type": "markdown",
   "metadata": {},
   "source": [
    "### Exporting the Driven Control\n",
    "\n",
    "Q-CTRL Open Controls enables exporting driven controls in CSV or JSON format. An exported driven control is [formatted](https://docs.q-ctrl.com/control-formats) to be compatible with [Q-CTRL BLACK OPAL](https://app.q-ctrl.com).\n",
    "\n",
    "Q-CTRL Open Controls can export a driven control in either `cartesian` or `cylindrical` coordinates. For details, consult the [technical documentation](https://docs.q-ctrl.com/output-data-formats#q-ctrl-hardware).\n",
    "\n",
    "In the example below, we chose the `bb1_x` control (created above) for exporting to a CSV file."
   ]
  },
  {
   "cell_type": "code",
   "execution_count": 16,
   "metadata": {},
   "outputs": [],
   "source": [
    "file_type='CSV'\n",
    "filename='example_driven_control.csv'\n",
    "\n",
    "bb1_x.export_to_file(\n",
    "    filename=filename, \n",
    "    file_type=file_type,\n",
    "    coordinates='cartesian')"
   ]
  },
  {
   "cell_type": "code",
   "execution_count": 17,
   "metadata": {},
   "outputs": [
    {
     "name": "stdout",
     "output_type": "stream",
     "text": [
      "amplitude_x,amplitude_y,detuning,duration,maximum_rabi_rate\n",
      "\n",
      "3.141592653589793,0.0,0.0,0.5,6.283185307179586\n",
      "\n",
      "-0.785398163397448,3.041834006980209,0.0,0.5,6.283185307179586\n",
      "\n",
      "4.319689898685962,-4.562751010470316,0.0,1.0,6.283185307179586\n",
      "\n",
      "-0.785398163397448,3.041834006980209,0.0,0.5,6.283185307179586\n"
     ]
    }
   ],
   "source": [
    "## Reload the file and check its content to better understand the format\n",
    "with open(filename, 'rt') as handle:\n",
    "    file_content = handle.readlines()\n",
    "for line in file_content:\n",
    "    print(line)"
   ]
  },
  {
   "cell_type": "markdown",
   "metadata": {},
   "source": [
    "### Opening the Exported Sequence in Q-CTRL BLACK OPAL"
   ]
  },
  {
   "cell_type": "markdown",
   "metadata": {},
   "source": [
    "The exported CSV files are compatible for analysis by a suite of tools offered by [Q-CTRL BLACK OPAL](https://app.q-ctrl.com). For example, you can upload the exported file in the [1-QUBIT Workspace](https://app.q-ctrl.com/oneQubit) for further analysis. The process to upload a custom control is described in [Uploading and Evaluating Custom Controls](https://help.q-ctrl.com/black-opal/guides/uploading-and-evaluating-custom-controls). For a full capability of BLACK OPAL, consult [Q-CTRL Help](https://help.q-ctrl.com/black-opal)"
   ]
  },
  {
   "cell_type": "markdown",
   "metadata": {},
   "source": [
    "## Custom Definition of a Driven Control\n",
    "\n",
    "An arbitrary `DrivenControl` can be defined defined using arrays of `rabi_rotations`, `azimuthal_angles`, `detuning_rotations` and `durations`."
   ]
  },
  {
   "cell_type": "code",
   "execution_count": 11,
   "metadata": {},
   "outputs": [
    {
     "data": {
      "image/png": "[encoded data removed]",
      "text/plain": [
       "<Figure size 1440x360 with 3 Axes>"
      ]
     },
     "metadata": {},
     "output_type": "display_data"
    }
   ],
   "source": [
    "_rabi_rates = [np.pi/2,np.pi/2,np.pi,np.pi]\n",
    "_azimuthal_angles = [0., -np.pi/2, 0., np.pi/2]\n",
    "_detunings = [np.pi/2, 0, -np.pi/2, 0]\n",
    "_durations = [0.5, 1, 2, 0.5]\n",
    "_name = 'Custon Driven Control'\n",
    "\n",
    "custom_driven_control = DrivenControl(rabi_rates=_rabi_rates, \n",
    "                                      azimuthal_angles=_azimuthal_angles,\n",
    "                                      detunings=_detunings,\n",
    "                                      durations=_durations,\n",
    "                                      name=_name)\n",
    "\n",
    "## let us plot and verify\n",
    "formatted_plot_data = custom_driven_control.get_plot_formatted_arrays(coordinates='cylindrical')\n",
    "rabi_rates, azimuthal_angles, detunings, times = (formatted_plot_data['rabi_rates'],\n",
    "                                                   formatted_plot_data['azimuthal_angles'],\n",
    "                                                   formatted_plot_data['detunings'],\n",
    "                                                   formatted_plot_data['times'])\n",
    "\n",
    "figure, (x_axis, y_axis, z_axis) = plt.subplots(1, 3, figsize=(20,5))\n",
    "\n",
    "x_axis.fill_between(times, rabi_rates, 0, alpha=0.15, color='#680cea')\n",
    "x_axis.plot(times, rabi_rates, color='#680cea')\n",
    "x_axis.set_xlabel('Time (s)')\n",
    "x_axis.set_ylabel('Rabi Rate (radHz)')\n",
    "\n",
    "y_axis.fill_between(times, azimuthal_angles, 0, alpha=0.15, color='#680cea')\n",
    "y_axis.plot(times, azimuthal_angles, color='#680cea')\n",
    "y_axis.set_xlabel('Time (s)')\n",
    "y_axis.set_ylabel('Azimuthal Angle (rad)')\n",
    "\n",
    "z_axis.fill_between(times, detunings, 0, alpha=0.15, color='#680cea')\n",
    "z_axis.plot(times, detunings, color='#680cea')\n",
    "z_axis.set_xlabel('Time (s)')\n",
    "z_axis.set_ylabel('Detuning (radHz)')\n",
    "\n",
    "plt.show()"
   ]
  }
 ],
 "metadata": {
  "kernelspec": {
   "display_name": "Python 3",
   "language": "python",
   "name": "python3"
  },
  "language_info": {
   "codemirror_mode": {
    "name": "ipython",
    "version": 3
   },
   "file_extension": ".py",
   "mimetype": "text/x-python",
   "name": "python",
   "nbconvert_exporter": "python",
   "pygments_lexer": "ipython3",
   "version": "3.6.7"
  }
 },
 "nbformat": 4,
 "nbformat_minor": 2
}
