{
 "cells": [
  {
   "cell_type": "markdown",
   "metadata": {},
   "source": [
    "# Creating a Driven Control\n",
    "\n",
    "This notebook illustrates how to use Q-CTRL Open Controls to create a driven control.\n",
    "\n",
    "A driven control represents the physical implementation of a quantum gate and is specified via one or multiple sets of rotation angles and phases with finite durations. Primitive driven controls only consist of one set and implement the desired gate directly, whereas dynamically corrected gates (DCGs) require driven controls made up of multiple segments. DCGs can be used as drop-in replacements to actively suppress errors in quantum circuits and improve the overall gate fidelity.\n",
    "\n",
    "Q-CTRL Open Controls can be used to create a driven control from a library of well-known control schemes. Once created, it can be printed, plotted, exported in CSV or JSON format for use on a quantum computer or any of [Q-CTRL's products](https://q-ctrl.com/products/)."
   ]
  },
  {
   "cell_type": "markdown",
   "metadata": {},
   "source": [
    "## Imports"
   ]
  },
  {
   "cell_type": "code",
   "execution_count": 2,
   "metadata": {},
   "outputs": [],
   "source": [
    "import numpy as np\n",
    "import matplotlib.pyplot as plt\n",
    "from qctrlopencontrols import new_predefined_driven_control, DrivenControl\n",
    "\n",
    "plt.rcParams['axes.prop_cycle'] = plt.cycler(\n",
    "    color=['#231e21', '#381e42', '#c80a64', '#680cea', '#5b02c1',\n",
    "           '#ffffff', '#faf7fc', '#ae9fb4', '#6c5b72', '250d2e']\n",
    ")"
   ]
  },
  {
   "cell_type": "markdown",
   "metadata": {},
   "source": [
    "## Predefined Driven Control Schemes\n",
    "\n",
    "Q-CTRL Open Controls can create driven controls according to the following protocols:\n",
    "\n",
    "1. Primitive\n",
    "2. First-order Wimperis broadband (BB1)\n",
    "3. First-order Solovay-Kitaev (SK1)\n",
    "4. Compensating for Off-Resonance with a Pulse Sequence (CORPSE)\n",
    "5. First-order Walsh Amplitude-Modulated Filter (WAMF1)\n",
    "6. Short Composite Rotation for Undoing Length Over and Under Shoot (SCROFULOUS)\n",
    "7. COPRSE in BB1\n",
    "8. CORPSE in SK1\n",
    "9. CORPSE in SCROFULOUS\n",
    "\n",
    "See the [technical documentation](https://docs.q-ctrl.com/control-library) for details."
   ]
  },
  {
   "cell_type": "markdown",
   "metadata": {},
   "source": [
    "## Creating and Printing a Driven Control\n",
    "\n",
    "A driven control is defined as one or multiple sets of unitary operations, each initialized with by a `rabi_rotation`, an `azimuthal_angle` and a `maximum_rabi_rate`. For some driven controls, you can optionally specify the `shape` of the control to create either square- or Gaussian-shaped controls.\n",
    "\n",
    "From those inputs, an array of segments is derived where each segment contains the (Cartesian) driving amplitudes in x, y, and z, as well as its duration. The full mathematical description of a driven control is explained in the [technical documentation](https://docs.q-ctrl.com/control-formats#control-coordinates)."
   ]
  },
  {
   "cell_type": "code",
   "execution_count": 4,
   "metadata": {},
   "outputs": [
    {
     "name": "stdout",
     "output_type": "stream",
     "text": [
      "Primitive X-pi:\n",
      "X Amplitudes: [+2] x pi\n",
      "Y Amplitudes: [+0] x pi\n",
      "Z Amplitudes: [+0] x pi\n",
      "Durations:    [+1] x 0.5s\n"
     ]
    }
   ],
   "source": [
    "## Primitive Pi pulse in X\n",
    "prim = new_predefined_driven_control(\n",
    "    rabi_rotation=np.pi,\n",
    "    azimuthal_angle=0,\n",
    "    maximum_rabi_rate=2 * np.pi,\n",
    "    scheme='primitive',\n",
    "    name='Primitive X-pi'\n",
    ")\n",
    "print(prim)"
   ]
  },
  {
   "cell_type": "code",
   "execution_count": 7,
   "metadata": {},
   "outputs": [
    {
     "name": "stdout",
     "output_type": "stream",
     "text": [
      "BB1 X-pi:\n",
      "X Amplitudes: [+2, -0.5, +1.375, -0.5] x pi\n",
      "Y Amplitudes: [+0, +1.936, -1.452, +1.936] x pi\n",
      "Z Amplitudes: [+0, +0, +0, +0] x pi\n",
      "Durations:    [+0.2,+0.2,+0.4,+0.2] x 2.5s\n"
     ]
    }
   ],
   "source": [
    "## BB1 Pi pulse in X (implements the same effective operation as above)\n",
    "bb1_x = new_predefined_driven_control(\n",
    "    rabi_rotation=np.pi,\n",
    "    azimuthal_angle=0,\n",
    "    maximum_rabi_rate=2 * np.pi,\n",
    "    scheme='BB1',\n",
    "    name='BB1 X-pi'\n",
    ")\n",
    "print(bb1_x)"
   ]
  },
  {
   "cell_type": "code",
   "execution_count": 8,
   "metadata": {},
   "outputs": [
    {
     "name": "stdout",
     "output_type": "stream",
     "text": [
      "BB1 Y-pi/2:\n",
      "X Amplitudes: [+0, -1.984, +1.86, -1.984] x pi\n",
      "Y Amplitudes: [+2, -0.25, +0.734, -0.25] x pi\n",
      "Z Amplitudes: [+0, +0, +0, +0] x pi\n",
      "Durations:    [+0.111,+0.222,+0.444,+0.222] x 2.25s\n"
     ]
    }
   ],
   "source": [
    "## BB1 Pi/2 pulse in Y\n",
    "bb1_y = new_predefined_driven_control(\n",
    "    rabi_rotation=np.pi/2,\n",
    "    azimuthal_angle=np.pi/2,\n",
    "    maximum_rabi_rate=2 * np.pi,\n",
    "    scheme='BB1',\n",
    "    name='BB1 Y-pi/2'\n",
    ")\n",
    "print(bb1_y)"
   ]
  },
  {
   "cell_type": "code",
   "execution_count": 9,
   "metadata": {},
   "outputs": [
    {
     "name": "stdout",
     "output_type": "stream",
     "text": [
      "SK1 Y-pi/2:\n",
      "X Amplitudes: [+0, +1.984, -1.984] x pi\n",
      "Y Amplitudes: [+2, -0.25, -0.25] x pi\n",
      "Z Amplitudes: [+0, +0, +0] x pi\n",
      "Durations:    [+0.111,+0.444,+0.444] x 2.25s\n"
     ]
    }
   ],
   "source": [
    "## SK1 Pi/2 pulse in Y\n",
    "sk1 = new_predefined_driven_control(\n",
    "    rabi_rotation=np.pi/2,\n",
    "    azimuthal_angle=np.pi/2,\n",
    "    maximum_rabi_rate=2 * np.pi,\n",
    "    scheme='SK1',\n",
    "    name='SK1 Y-pi/2'\n",
    ")\n",
    "print(sk1)"
   ]
  },
  {
   "cell_type": "code",
   "execution_count": 10,
   "metadata": {},
   "outputs": [
    {
     "name": "stdout",
     "output_type": "stream",
     "text": [
      "CORPSE X-pi/2:\n",
      "X Amplitudes: [+2, -2, +2] x pi\n",
      "Y Amplitudes: [+0, +0, +0] x pi\n",
      "Z Amplitudes: [+0, +0, +0] x pi\n",
      "Durations:    [+0.528,+0.438,+0.033] x 2.0199465438373845s\n"
     ]
    }
   ],
   "source": [
    "## CORPSE Pi/2 pulse in X\n",
    "corpse = new_predefined_driven_control(\n",
    "    rabi_rotation=np.pi/2,\n",
    "    azimuthal_angle=0,\n",
    "    maximum_rabi_rate=2 * np.pi,\n",
    "    scheme='CORPSE',\n",
    "    name='CORPSE X-pi/2'\n",
    ")\n",
    "print(corpse)"
   ]
  },
  {
   "cell_type": "markdown",
   "metadata": {},
   "source": [
    "### Plotting a driven control\n",
    "\n",
    "Once created, Q-CTRL Open Controls provides the method `get_plot_formatted_arrays` to create a set of formatted arrays ready to be immediately plotted with Matplotlib. We use the `wimperis_1` (BB1) as a driven control to generate plots of the `x_amplitudes`, `y_amplitudes` and `z_amplitudes`."
   ]
  },
  {
   "cell_type": "code",
   "execution_count": 11,
   "metadata": {},
   "outputs": [
    {
     "data": {
      "image/png": "[encoded data removed]",
      "text/plain": [
       "<Figure size 1440x360 with 3 Axes>"
      ]
     },
     "metadata": {
      "needs_background": "light"
     },
     "output_type": "display_data"
    }
   ],
   "source": [
    "formatted_plot_data = bb1_x.get_plot_formatted_arrays(coordinates='cartesian')\n",
    "x_amplitudes, y_amplitudes, z_amplitudes, times = (formatted_plot_data['amplitude_x'],\n",
    "                                                   formatted_plot_data['amplitude_y'],\n",
    "                                                   formatted_plot_data['detuning'],\n",
    "                                                   formatted_plot_data['times'])\n",
    "# prepare the axes\n",
    "figure, (x_axis, y_axis, z_axis) = plt.subplots(1, 3, figsize=(20,5))\n",
    "\n",
    "x_axis.fill_between(times, x_amplitudes, 0, alpha=0.15, color='C3')\n",
    "x_axis.plot(times, x_amplitudes, color='C3')\n",
    "x_axis.set_xlabel('Time (sec)')\n",
    "x_axis.set_ylabel('Drive amplitude in X (rad)')\n",
    "\n",
    "y_axis.fill_between(times, y_amplitudes, 0, alpha=0.15, color='C3')\n",
    "y_axis.plot(times, y_amplitudes, color='C3')\n",
    "y_axis.set_xlabel('Time (sec)')\n",
    "y_axis.set_ylabel('Drive amplitude in Y (rad)')\n",
    "\n",
    "z_axis.fill_between(times, z_amplitudes, 0, alpha=0.15, color='C3')\n",
    "z_axis.plot(times, z_amplitudes, color='C3')\n",
    "z_axis.set_xlabel('Time (sec)')\n",
    "z_axis.set_ylabel('Drive amplitude in Z (rad)')\n",
    "\n",
    "plt.show()"
   ]
  },
  {
   "cell_type": "markdown",
   "metadata": {},
   "source": [
    "### Exporting the Driven Control\n",
    "\n",
    "Q-CTRL Open Controls enables exporting driven controls in CSV or JSON format. An exported driven control is [formatted](https://docs.q-ctrl.com/control-formats) to be compatible with [Q-CTRL BLACK OPAL](https://app.q-ctrl.com).\n",
    "\n",
    "Q-CTRL Open Controls can export a driven control in either `cartesian` or `cylindrical` coordinates. For details, consult the [technical documentation](https://docs.q-ctrl.com/output-data-formats#q-ctrl-hardware).\n",
    "\n",
    "In the example below, we chose the `bb1_x` control (created above) for exporting to a CSV file."
   ]
  },
  {
   "cell_type": "code",
   "execution_count": 27,
   "metadata": {},
   "outputs": [],
   "source": [
    "file_type='CSV'\n",
    "filename='example_driven_control.csv'\n",
    "\n",
    "bb1_x.export_to_file(\n",
    "    filename=filename, \n",
    "    file_type=file_type,\n",
    "    coordinates='cartesian')"
   ]
  },
  {
   "cell_type": "code",
   "execution_count": 28,
   "metadata": {},
   "outputs": [
    {
     "name": "stdout",
     "output_type": "stream",
     "text": [
      "amplitude_x,amplitude_y,detuning,duration,maximum_rabi_rate\n",
      "\n",
      "1.0,0.0,0.0,0.5,6.283185307179586\n",
      "\n",
      "-0.2500000000000001,0.9682458365518541,0.0,0.5,6.283185307179586\n",
      "\n",
      "0.6875000000000002,-0.7261843774138904,0.0,1.0,6.283185307179586\n",
      "\n",
      "-0.2500000000000001,0.9682458365518541,0.0,0.5,6.283185307179586\n"
     ]
    }
   ],
   "source": [
    "## Reload the file and check its content to better understand the format\n",
    "with open(filename, 'rt') as handle:\n",
    "    file_content = handle.readlines()\n",
    "for line in file_content:\n",
    "    print(line)"
   ]
  },
  {
   "cell_type": "markdown",
   "metadata": {},
   "source": [
    "### Opening the Exported Sequence in Q-CTRL BLACK OPAL"
   ]
  },
  {
   "cell_type": "markdown",
   "metadata": {},
   "source": [
    "The exported CSV files are compatible for analysis by a suite of tools offered by [Q-CTRL BLACK OPAL](https://app.q-ctrl.com). For example, you can upload the exported file in the [1-QUBIT Workspace](https://app.q-ctrl.com/oneQubit) for further analysis. The process to upload a custom control is described in [Uploading and Evaluating Custom Controls](https://help.q-ctrl.com/black-opal/guides/uploading-and-evaluating-custom-controls). For a full capability of BLACK OPAL, consult [Q-CTRL Help](https://help.q-ctrl.com/black-opal)"
   ]
  },
  {
   "cell_type": "markdown",
   "metadata": {},
   "source": [
    "## Custom Definition of a Driven Control\n",
    "\n",
    "`DrivenControls`, defined in Q-CTRL Open Controls, accepts a `segments` array of x, y and z amplitudes and durations to define any arbitrary Driven Control. This is the most generalized way to create any custom Driven Control."
   ]
  },
  {
   "cell_type": "code",
   "execution_count": 15,
   "metadata": {},
   "outputs": [
    {
     "data": {
      "image/png": "[encoded data removed]",
      "text/plain": [
       "<Figure size 1440x360 with 3 Axes>"
      ]
     },
     "metadata": {
      "needs_background": "light"
     },
     "output_type": "display_data"
    }
   ],
   "source": [
    "# defining the required parameters\n",
    "x_amplitudes = [np.pi/2, 0, -np.pi, 0]\n",
    "y_amplitudes = [0, -np.pi/2, 0, np.pi]\n",
    "z_amplitudes = [np.pi/2, 0, -np.pi/2, 0]\n",
    "durations = [0.5, 1, 2, 0.5]\n",
    "\n",
    "_segments = np.vstack([x_amplitudes, y_amplitudes, z_amplitudes, durations]).T\n",
    "_name = 'Custon Driven Control'\n",
    "\n",
    "custom_driven_control = DrivenControl(segments=_segments, name=_name)\n",
    "\n",
    "## let us plot and verify\n",
    "formatted_plot_data = custom_driven_control.get_plot_formatted_arrays(coordinates='cartesian')\n",
    "x_amplitudes, y_amplitudes, z_amplitudes, times = (formatted_plot_data['amplitude_x'],\n",
    "                                                   formatted_plot_data['amplitude_y'],\n",
    "                                                   formatted_plot_data['detuning'],\n",
    "                                                   formatted_plot_data['times'])\n",
    "# prepare the axes\n",
    "figure, (x_axis, y_axis, z_axis) = plt.subplots(1, 3, figsize=(20,5))\n",
    "\n",
    "x_axis.fill_between(times, x_amplitudes, 0, alpha=0.15, color='C3')\n",
    "x_axis.plot(times, x_amplitudes, color='C3')\n",
    "x_axis.set_xlabel('Time (sec)')\n",
    "x_axis.set_ylabel('Drive amplitude in X (rad)')\n",
    "\n",
    "y_axis.fill_between(times, y_amplitudes, 0, alpha=0.15, color='C3')\n",
    "y_axis.plot(times, y_amplitudes, color='C3')\n",
    "y_axis.set_xlabel('Time (sec)')\n",
    "y_axis.set_ylabel('Drive amplitude in Y (rad)')\n",
    "\n",
    "z_axis.fill_between(times, z_amplitudes, 0, alpha=0.15, color='C3')\n",
    "z_axis.plot(times, z_amplitudes, color='C3')\n",
    "z_axis.set_xlabel('Time (sec)')\n",
    "z_axis.set_ylabel('Drive amplitude in Z (rad)')\n",
    "\n",
    "plt.show()"
   ]
  },
  {
   "cell_type": "code",
   "execution_count": null,
   "metadata": {},
   "outputs": [],
   "source": []
  }
 ],
 "metadata": {
  "kernelspec": {
   "display_name": "Python 3",
   "language": "python",
   "name": "python3"
  },
  "language_info": {
   "codemirror_mode": {
    "name": "ipython",
    "version": 3
   },
   "file_extension": ".py",
   "mimetype": "text/x-python",
   "name": "python",
   "nbconvert_exporter": "python",
   "pygments_lexer": "ipython3",
   "version": "3.7.1"
  }
 },
 "nbformat": 4,
 "nbformat_minor": 2
}
